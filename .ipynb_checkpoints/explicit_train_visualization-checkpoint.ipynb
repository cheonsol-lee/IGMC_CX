{
 "cells": [
  {
   "cell_type": "code",
   "execution_count": 4,
   "id": "9ee754ff-2a3d-4760-9dde-f35b5079e53b",
   "metadata": {
    "tags": []
   },
   "outputs": [
    {
     "name": "stdout",
     "output_type": "stream",
     "text": [
      "  Training epoch took: 0:00:00\n"
     ]
    }
   ],
   "source": [
    "import time\n",
    "import datetime\n",
    "# 시간 표시 함수\n",
    "def format_time(elapsed):\n",
    "    # 반올림\n",
    "    elapsed_rounded = int(round((elapsed)))\n",
    "    # hh:mm:ss으로 형태 변경\n",
    "    return str(datetime.timedelta(seconds=elapsed_rounded))\n",
    "\n",
    "start_time = time.time()\n",
    "print(\"  Training epoch took: {:}\".format(format_time(time.time() - start_time)))"
   ]
  },
  {
   "cell_type": "code",
   "execution_count": 5,
   "id": "c5af6c94-0780-4733-88b7-286a4a08728a",
   "metadata": {
    "tags": []
   },
   "outputs": [],
   "source": [
    "\"\"\"Training IGMC model on the MovieLens dataset.\"\"\"\n",
    "\n",
    "import os\n",
    "import sys\n",
    "import time\n",
    "import glob\n",
    "import random\n",
    "import argparse\n",
    "from shutil import copy\n",
    "\n",
    "import numpy as np\n",
    "import torch as th\n",
    "import torch.nn as nn\n",
    "import torch.optim as optim\n",
    "from torch.utils.data import Dataset, DataLoader\n",
    "\n",
    "from explicit_model_rotten_visualization import IGMC\n",
    "from explicit_data_rotten import RottenTomato\n",
    "from explicit_dataset_rotten import (RottenTomatoDataset, collate_rotten_tomato,\n",
    "                                     MultiRottenTomatoDataset, multi_collate_rotten_tomato)\n",
    "from utils import MetricLogger"
   ]
  },
  {
   "cell_type": "code",
   "execution_count": 6,
   "id": "54c1bb83-260d-40b8-900b-6c27d7da5134",
   "metadata": {},
   "outputs": [],
   "source": [
    "def evaluate(model, loader, device):\n",
    "    predict_list = list()\n",
    "    label_list = list()\n",
    "    \n",
    "    # Evaluate RMSE\n",
    "    model.eval()\n",
    "    mse = 0.\n",
    "    for iter_idx, batch in enumerate(loader):\n",
    "        with th.no_grad():\n",
    "            block_r = batch[0][0].to(device)\n",
    "            block_s = batch[0][1].to(device)\n",
    "            block_e = batch[0][2].to(device)\n",
    "            tmp, emb_df = model(block_r, block_s, block_e)\n",
    "            preds = (tmp + 1)/2\n",
    "        \n",
    "        tmp_rating = batch[1][0].to(device) # 정답 rating labels\n",
    "        labels = (tmp_rating+1)/2\n",
    "        mse += ((preds - labels) ** 2).sum().item()\n",
    "        \n",
    "        predict_list.append(preds.tolist()) # 예측값 저장\n",
    "        label_list.append(labels.tolist()) # 정답값 저장\n",
    "        \n",
    "        # 2차원 -> 1차원 리스트 변형\n",
    "    predict_list = [element for array in predict_list for element in array]\n",
    "    label_list = [element for array in label_list for element in array]    \n",
    "        \n",
    "    mse /= len(loader.dataset)\n",
    "    rmse = np.sqrt(mse)\n",
    "    return rmse, predict_list, label_list, emb_df\n",
    "\n",
    "def adj_rating_reg_r(model):\n",
    "    arr_loss = 0\n",
    "    for conv in model.convs_r:\n",
    "        weight = conv.weight.view(conv.num_bases, conv.in_feat * conv.out_feat)\n",
    "        weight = th.matmul(conv.w_comp, weight).view(conv.num_rels, conv.in_feat, conv.out_feat)\n",
    "        arr_loss += th.sum((weight[1:, :, :] - weight[:-1, :, :])**2)\n",
    "    return arr_loss\n",
    "\n",
    "def adj_rating_reg_s(model):\n",
    "    arr_loss = 0\n",
    "    for conv in model.convs_s:\n",
    "        weight = conv.weight.view(conv.num_bases, conv.in_feat * conv.out_feat)\n",
    "        weight = th.matmul(conv.w_comp, weight).view(conv.num_rels, conv.in_feat, conv.out_feat)\n",
    "        arr_loss += th.sum((weight[1:, :, :] - weight[:-1, :, :])**2)\n",
    "    return arr_loss\n",
    "\n",
    "# rating, sentiment, emotion loader를 받음\n",
    "def train_epoch(model, loss_fn, optimizer, arr_lambda, loader, device, log_interval):\n",
    "    model.train()\n",
    "\n",
    "    epoch_loss = 0.\n",
    "    iter_loss = 0.\n",
    "    iter_mse = 0.\n",
    "    iter_cnt = 0\n",
    "    iter_dur = []\n",
    "\n",
    "    iter_idx = 0\n",
    "    \n",
    "    # 저장 리스트(예측, 정답)\n",
    "    predict_list = list()\n",
    "    label_list = list()\n",
    "    \n",
    "    for iter_idx, batch in enumerate(loader, start=1):\n",
    "        t_start = time.time()\n",
    "        \n",
    "        # rating\n",
    "        inputs_r = batch[0][0].to(device)\n",
    "        labels_r = batch[1][0].to(device)\n",
    "        # sentiment\n",
    "        inputs_s = batch[0][1].to(device)\n",
    "        labels_s = batch[1][1].to(device)\n",
    "        # emotion\n",
    "        inputs_e = batch[0][2].to(device)\n",
    "        labels_e = batch[1][2].to(device)\n",
    "    \n",
    "        preds, _ = model(inputs_r, inputs_s, inputs_e)\n",
    "        preds  = (preds + 1)/2\n",
    "        labels_r = (labels_r + 1)/2\n",
    "        loss = loss_fn(preds, labels_r).mean() + arr_lambda * adj_rating_reg_r(model) + arr_lambda * adj_rating_reg_s(model)\n",
    "#         loss = loss_fn(preds, labels_r).mean()\n",
    "        \n",
    "        optimizer.zero_grad()\n",
    "        loss.backward()\n",
    "        optimizer.step()\n",
    "\n",
    "        epoch_loss += loss.item() * preds.shape[0]\n",
    "        iter_loss += loss.item() * preds.shape[0]\n",
    "        iter_mse += ((preds - labels_r) ** 2).sum().item()\n",
    "        iter_cnt += preds.shape[0]\n",
    "        iter_dur.append(time.time() - t_start)\n",
    "\n",
    "        predict_list.append(preds.tolist()) # 예측값 저장\n",
    "        label_list.append(labels_r.tolist()) # 정답값 저장\n",
    "        \n",
    "        if iter_idx % log_interval == 0:\n",
    "            print(\"Iter={}, loss={:.4f}, mse={:.4f}, time={:.4f}\".format(\n",
    "                iter_idx, iter_loss/iter_cnt, iter_mse/iter_cnt, np.average(iter_dur)))\n",
    "            iter_loss = 0.\n",
    "            iter_mse = 0.\n",
    "            iter_cnt = 0\n",
    "        \n",
    "    # 2차원 -> 1차원 리스트 변형\n",
    "    predict_list = [element for array in predict_list for element in array]\n",
    "    label_list = [element for array in label_list for element in array]\n",
    "\n",
    "    train_epoch_loss = epoch_loss / len(loader.dataset)  \n",
    "    return train_epoch_loss, predict_list, label_list"
   ]
  },
  {
   "cell_type": "markdown",
   "id": "68ff187c-d0a5-44d6-bf40-12a1c7927a3b",
   "metadata": {},
   "source": [
    "## 1. Config"
   ]
  },
  {
   "cell_type": "code",
   "execution_count": 7,
   "id": "0218e93a-7bb0-4007-a0d4-194dfbf0fc54",
   "metadata": {},
   "outputs": [],
   "source": [
    "import easydict\n",
    "\n",
    "args = easydict.EasyDict({ \n",
    "    'data_name':            'rotten',\n",
    "    'testing':     \t        True,\n",
    "    'device':      \t        0,\n",
    "    'seed':        \t        1234,\n",
    "    'data_test_ratio':      0.1,\n",
    "    'num_workers':   \t    8,\n",
    "    'data_valid_ratio':     0.2,\n",
    "    'train_log_interval':   200,\n",
    "    'valid_log_interval':   10,\n",
    "    'save_appendix':   \t    'debug',\n",
    "    'hop':   \t            1,\n",
    "    'sample_ratio':    \t    1.0,\n",
    "    'max_nodes_per_hop':    100,\n",
    "    'edge_dropout':   \t    0.2,\n",
    "    'force_undirected':     False,\n",
    "    'train_lr':   \t        1e-3,\n",
    "    'train_min_lr':   \t    1e-6,\n",
    "    'train_lr_decay_factor':0.1,\n",
    "    'train_lr_decay_step':  50,\n",
    "    'batch_size':   \t    16,\n",
    "    'arr_lambda':   \t    0.001,\n",
    "    'num_rgcn_bases':   \t4,\n",
    "    'train_epochs':   \t    1\n",
    "})"
   ]
  },
  {
   "cell_type": "code",
   "execution_count": 8,
   "id": "7eefc4e0-e1a6-47fa-af1b-3f79a748f8ae",
   "metadata": {},
   "outputs": [
    {
     "name": "stdout",
     "output_type": "stream",
     "text": [
      "{'data_name': 'rotten', 'testing': True, 'device': 0, 'seed': 1234, 'data_test_ratio': 0.1, 'num_workers': 8, 'data_valid_ratio': 0.2, 'train_log_interval': 200, 'valid_log_interval': 10, 'save_appendix': 'debug', 'hop': 1, 'sample_ratio': 1.0, 'max_nodes_per_hop': 100, 'edge_dropout': 0.2, 'force_undirected': False, 'train_lr': 0.001, 'train_min_lr': 1e-06, 'train_lr_decay_factor': 0.1, 'train_lr_decay_step': 50, 'batch_size': 16, 'arr_lambda': 0.001, 'num_rgcn_bases': 4, 'train_epochs': 1, 'save_dir': 'C:\\\\Users\\\\user\\\\Jupyter_project\\\\keejun\\\\IGMC_CX\\\\log/rotten_debug_testmode_2112132219'}\n",
      "Command line input: python3 C:\\Users\\user\\anaconda3\\envs\\graph\\lib\\site-packages\\ipykernel_launcher.py -f C:\\Users\\user\\AppData\\Roaming\\jupyter\\runtime\\kernel-b06d8bd0-d6dc-430f-87c9-32369340f774.json is saved.\n"
     ]
    }
   ],
   "source": [
    "### set save_dir according to localtime and test mode\n",
    "file_dir = os.path.dirname(os.path.realpath('__file__'))\n",
    "val_test_appendix = 'testmode' if args.testing else 'valmode'\n",
    "local_time = time.strftime('%y%m%d%H%M', time.localtime())\n",
    "args.save_dir = os.path.join(\n",
    "    file_dir, 'log/{}_{}_{}_{}'.format(\n",
    "        args.data_name, args.save_appendix, val_test_appendix, local_time\n",
    "    )\n",
    ")\n",
    "if not os.path.exists(args.save_dir):\n",
    "    os.makedirs(args.save_dir) \n",
    "print(args)\n",
    "\n",
    "# backup current .py files\n",
    "for f in glob.glob(r\"*.py\"):\n",
    "    copy(f, args.save_dir)\n",
    "\n",
    "# save command line input\n",
    "cmd_input = 'python3 ' + ' '.join(sys.argv)\n",
    "with open(os.path.join(args.save_dir, 'cmd_input.txt'), 'a') as f:\n",
    "    f.write(cmd_input)\n",
    "    f.write(\"\\n\")\n",
    "print('Command line input: ' + cmd_input + ' is saved.')"
   ]
  },
  {
   "cell_type": "code",
   "execution_count": 9,
   "id": "b0952c8a-5880-48c8-a6b0-76fa1226074e",
   "metadata": {
    "tags": []
   },
   "outputs": [
    {
     "data": {
      "text/plain": [
       "{'data_name': 'rotten',\n",
       " 'testing': True,\n",
       " 'device': 0,\n",
       " 'seed': 1234,\n",
       " 'data_test_ratio': 0.1,\n",
       " 'num_workers': 8,\n",
       " 'data_valid_ratio': 0.2,\n",
       " 'train_log_interval': 200,\n",
       " 'valid_log_interval': 10,\n",
       " 'save_appendix': 'debug',\n",
       " 'hop': 1,\n",
       " 'sample_ratio': 1.0,\n",
       " 'max_nodes_per_hop': 100,\n",
       " 'edge_dropout': 0.2,\n",
       " 'force_undirected': False,\n",
       " 'train_lr': 0.001,\n",
       " 'train_min_lr': 1e-06,\n",
       " 'train_lr_decay_factor': 0.1,\n",
       " 'train_lr_decay_step': 50,\n",
       " 'batch_size': 16,\n",
       " 'arr_lambda': 0.001,\n",
       " 'num_rgcn_bases': 4,\n",
       " 'train_epochs': 1,\n",
       " 'save_dir': 'C:\\\\Users\\\\user\\\\Jupyter_project\\\\keejun\\\\IGMC_CX\\\\log/rotten_debug_testmode_2112132219'}"
      ]
     },
     "execution_count": 9,
     "metadata": {},
     "output_type": "execute_result"
    }
   ],
   "source": [
    "args"
   ]
  },
  {
   "cell_type": "code",
   "execution_count": 10,
   "id": "b0e5af39-9646-43f8-87d2-8d9c498b7d72",
   "metadata": {},
   "outputs": [],
   "source": [
    "random.seed(args.seed)\n",
    "np.random.seed(args.seed)\n",
    "th.manual_seed(args.seed)\n",
    "if th.cuda.is_available():\n",
    "    th.cuda.manual_seed_all(args.seed)    "
   ]
  },
  {
   "cell_type": "markdown",
   "id": "9bcd9d7e-1617-4c32-a8bc-006d4a49ca35",
   "metadata": {},
   "source": [
    "## 2. Train"
   ]
  },
  {
   "cell_type": "code",
   "execution_count": 11,
   "id": "57c44d14-7115-4e81-9c99-99f370f93129",
   "metadata": {
    "tags": []
   },
   "outputs": [
    {
     "name": "stdout",
     "output_type": "stream",
     "text": [
      "Data_type: rotten\n",
      "Label_type: rating\n",
      "\tTrain rating pairs : 216328\n",
      "\tValid rating pairs : 43266\n",
      "\tTest rating pairs  : 28766\n",
      "Data_type: rotten\n",
      "Label_type: sentiment\n",
      "\tTrain rating pairs : 216328\n",
      "\tValid rating pairs : 43266\n",
      "\tTest rating pairs  : 28766\n",
      "Data_type: rotten\n",
      "Label_type: emotion\n",
      "\tTrain rating pairs : 216328\n",
      "\tValid rating pairs : 43266\n",
      "\tTest rating pairs  : 28766\n"
     ]
    }
   ],
   "source": [
    "### prepare data and set model\n",
    "path = './raw_data/'\n",
    "data_type = 'rotten'\n",
    "rotten_tomato_r = RottenTomato(data_type, 'rating',    path, testing=args.testing,test_ratio=args.data_test_ratio, valid_ratio=args.data_valid_ratio)\n",
    "rotten_tomato_s = RottenTomato(data_type, 'sentiment', path, testing=args.testing,test_ratio=args.data_test_ratio, valid_ratio=args.data_valid_ratio)\n",
    "rotten_tomato_e = RottenTomato(data_type, 'emotion',   path, testing=args.testing,test_ratio=args.data_test_ratio, valid_ratio=args.data_valid_ratio)"
   ]
  },
  {
   "cell_type": "markdown",
   "id": "530daf78-1abb-45fc-8e29-7f13a1761c55",
   "metadata": {},
   "source": [
    "### 2-1. multi_rotten_tomato_dataset 정의"
   ]
  },
  {
   "cell_type": "code",
   "execution_count": 12,
   "id": "fb69f150-c705-4520-914c-998f819fd282",
   "metadata": {
    "tags": []
   },
   "outputs": [],
   "source": [
    "# 수정한 것 (단, 그래프의 모든 행의 길이 동일함)\n",
    "train_rating_pairs  = [rotten_tomato_r.train_rating_pairs, rotten_tomato_s.train_rating_pairs, rotten_tomato_e.train_rating_pairs]\n",
    "train_rating_values = [rotten_tomato_r.train_rating_values, rotten_tomato_s.train_rating_values, rotten_tomato_e.train_rating_values]\n",
    "train_graph         = [rotten_tomato_r.train_graph, rotten_tomato_s.train_graph, rotten_tomato_e.train_graph]\n",
    "\n",
    "test_rating_pairs  = [rotten_tomato_r.test_rating_pairs, rotten_tomato_s.test_rating_pairs, rotten_tomato_e.test_rating_pairs]\n",
    "test_rating_values = [rotten_tomato_r.test_rating_values, rotten_tomato_s.test_rating_values, rotten_tomato_e.test_rating_values]\n",
    "test_graph         = [rotten_tomato_r.train_graph, rotten_tomato_s.train_graph, rotten_tomato_e.train_graph]\n",
    "\n",
    "valid_rating_pairs  = [rotten_tomato_r.valid_rating_pairs, rotten_tomato_s.valid_rating_pairs, rotten_tomato_e.valid_rating_pairs]\n",
    "valid_rating_values = [rotten_tomato_r.valid_rating_values, rotten_tomato_s.valid_rating_values, rotten_tomato_e.valid_rating_values]\n",
    "valid_graph         = [rotten_tomato_r.train_graph, rotten_tomato_s.train_graph, rotten_tomato_e.train_graph]\n",
    "\n",
    "hop = [1, 1, 1]\n",
    "sample_ratio = [1.0, 1.0, 1.0]\n",
    "max_nodes_per_hop = [200, 200, 200]"
   ]
  },
  {
   "cell_type": "code",
   "execution_count": 13,
   "id": "af177066-b960-4e61-8bb6-f993f4644086",
   "metadata": {},
   "outputs": [],
   "source": [
    "train_dataset = MultiRottenTomatoDataset(train_rating_pairs, train_rating_values, train_graph, hop, sample_ratio, max_nodes_per_hop)\n",
    "train_loader = th.utils.data.DataLoader(train_dataset, batch_size=32, shuffle=True, \n",
    "                        num_workers=0, collate_fn=multi_collate_rotten_tomato)"
   ]
  },
  {
   "cell_type": "code",
   "execution_count": 14,
   "id": "3bb2a9bc-37f2-4178-a458-efab36ebd80e",
   "metadata": {},
   "outputs": [
    {
     "name": "stdout",
     "output_type": "stream",
     "text": [
      "testing\n"
     ]
    }
   ],
   "source": [
    "if args.testing:\n",
    "    print('testing')\n",
    "    test_dataset = MultiRottenTomatoDataset(test_rating_pairs, test_rating_values, test_graph, hop, sample_ratio, max_nodes_per_hop)\n",
    "    test_loader = th.utils.data.DataLoader(test_dataset, batch_size=32, shuffle=False, \n",
    "                            num_workers=0, collate_fn=multi_collate_rotten_tomato)\n",
    "else:\n",
    "    print('valid')\n",
    "    test_dataset = MultiRottenTomatoDataset(valid_rating_pairs, valid_rating_values, valid_graph, hop, sample_ratio, max_nodes_per_hop)\n",
    "    test_loader = th.utils.data.DataLoader(valid_dataset, batch_size=32, shuffle=False, \n",
    "                            num_workers=0, collate_fn=multi_collate_rotten_tomato)"
   ]
  },
  {
   "cell_type": "markdown",
   "id": "2e015002-b338-488e-ad01-4cbf7b4a0715",
   "metadata": {},
   "source": [
    "테스트중입니다"
   ]
  },
  {
   "cell_type": "code",
   "execution_count": 15,
   "id": "ba464e44-2833-4f50-8c5f-abac54c15ef9",
   "metadata": {},
   "outputs": [
    {
     "name": "stdout",
     "output_type": "stream",
     "text": [
      "1\n",
      "2\n",
      "3\n",
      "4\n"
     ]
    }
   ],
   "source": [
    "for iter_idx, batch in enumerate(train_loader, start=1):\n",
    "    if iter_idx == 5:\n",
    "        break\n",
    "    print(iter_idx)\n",
    "    \n",
    "    device = args.device\n",
    "    \n",
    "    # rating\n",
    "    inputs_r = batch[0][0].to(device)\n",
    "    labels_r = batch[1][0].to(device)\n",
    "    # sentiment\n",
    "    inputs_s = batch[0][1].to(device)\n",
    "    labels_s = batch[1][1].to(device)\n",
    "    # emotion\n",
    "    inputs_e = batch[0][2].to(device)\n",
    "    labels_e = batch[1][2].to(device)"
   ]
  },
  {
   "cell_type": "markdown",
   "id": "d85a86d9-d16e-4e25-bab8-b634b5775834",
   "metadata": {},
   "source": [
    "## 모델 선언"
   ]
  },
  {
   "cell_type": "code",
   "execution_count": 16,
   "id": "6c679b72-a7a2-4abb-9c4d-efdebf97dbc8",
   "metadata": {
    "tags": []
   },
   "outputs": [
    {
     "name": "stdout",
     "output_type": "stream",
     "text": [
      "Loading network finished ...\n",
      "\n"
     ]
    }
   ],
   "source": [
    "in_feats = (args.hop+1)*2 #+ rotten_tomato.train_graph.ndata['refex'].shape[1]\n",
    "model = IGMC(in_feats=in_feats, \n",
    "             latent_dim=[32, 32, 32, 32],\n",
    "             num_relations=10, # rotten_tomato.num_rating, \n",
    "             num_bases=4, \n",
    "             regression=True, \n",
    "             edge_dropout=args.edge_dropout,\n",
    "        ).to(args.device)\n",
    "loss_fn = nn.MSELoss().to(args.device)\n",
    "optimizer = optim.Adam(model.parameters(), lr=args.train_lr, weight_decay=0)\n",
    "print(\"Loading network finished ...\\n\")"
   ]
  },
  {
   "cell_type": "code",
   "execution_count": 17,
   "id": "813be398-b4ef-4095-bfc9-50690ac1645d",
   "metadata": {},
   "outputs": [],
   "source": [
    "# in_feats = (args.hop+1)*2 #+ rotten_tomato.train_graph.ndata['refex'].shape[1]\n",
    "# model_good = IGMC(in_feats=in_feats, \n",
    "#              latent_dim=[32, 32, 32, 32],\n",
    "#              num_relations=10, # rotten_tomato.num_rating, \n",
    "#              num_bases=4, \n",
    "#              regression=True, \n",
    "#              edge_dropout=args.edge_dropout,\n",
    "#         ).to(args.device)\n",
    "# loss_fn = nn.MSELoss().to(args.device)\n",
    "# optimizer = optim.Adam(model_good.parameters(), lr=args.train_lr, weight_decay=0)\n",
    "# print(\"Loading network finished ...\\n\")"
   ]
  },
  {
   "cell_type": "markdown",
   "id": "a970f06e-f688-43d7-8771-fed0a67e535b",
   "metadata": {},
   "source": [
    "## 모델 로드"
   ]
  },
  {
   "cell_type": "code",
   "execution_count": 18,
   "id": "16b5d332-298f-4170-b256-1cb91697807c",
   "metadata": {
    "tags": []
   },
   "outputs": [
    {
     "data": {
      "text/plain": [
       "IGMC"
      ]
     },
     "execution_count": 18,
     "metadata": {},
     "output_type": "execute_result"
    }
   ],
   "source": [
    "import os.path\n",
    "path = './raw_data/model/'\n",
    "model.load_state_dict(th.load(path+'model_final.pth'))\n",
    "model.eval()"
   ]
  },
  {
   "cell_type": "code",
   "execution_count": null,
   "id": "81a6ff85-36b8-489d-9ecc-e80bc657b7a0",
   "metadata": {},
   "outputs": [
    {
     "name": "stdout",
     "output_type": "stream",
     "text": [
      "Start training ...\n",
      "Epoch 1\n"
     ]
    }
   ],
   "source": [
    "### prepare the logger\n",
    "logger = MetricLogger(args.save_dir, args.valid_log_interval)\n",
    "\n",
    "best_epoch = 0\n",
    "best_rmse = np.inf\n",
    "### declare the loss information\n",
    "print(\"Start training ...\")\n",
    "\n",
    "start_time = time.time()\n",
    "\n",
    "# 마지막 epoch의 결과를 저장함.\n",
    "predict_train_list = list()\n",
    "label_train_list = list()\n",
    "\n",
    "predict_valid_list = list()\n",
    "label_valid_list = list()\n",
    "best_predict_valid_list = list()\n",
    "best_label_valid_list = list()\n",
    "\n",
    "predict_test_list = list()\n",
    "label_test_list = list()\n",
    "best_predict_test_list = list()\n",
    "best_label_test_list = list()\n",
    "\n",
    "for epoch_idx in range(1, 2):\n",
    "    print ('Epoch', epoch_idx)\n",
    "\n",
    "    test_rmse, predict_test_list, label_test_list, emb_df = evaluate(model, test_loader, args.device)\n",
    "\n",
    "    print(\"  Training epoch took: {:}\".format(format_time(time.time() - start_time)))"
   ]
  },
  {
   "cell_type": "code",
   "execution_count": 18,
   "id": "719d4df2-fc1c-494c-9f63-1f754c0f719e",
   "metadata": {},
   "outputs": [
    {
     "data": {
      "text/plain": [
       "0.8029717529426514"
      ]
     },
     "execution_count": 18,
     "metadata": {},
     "output_type": "execute_result"
    }
   ],
   "source": [
    "test_rmse"
   ]
  },
  {
   "cell_type": "code",
   "execution_count": null,
   "id": "8db8dcbb-fc35-45d3-bc31-ed8d4ec0f591",
   "metadata": {},
   "outputs": [],
   "source": [
    "emb_df"
   ]
  },
  {
   "cell_type": "code",
   "execution_count": null,
   "id": "5607d798-4f06-4cba-9023-c3fa909f832f",
   "metadata": {},
   "outputs": [],
   "source": []
  },
  {
   "cell_type": "markdown",
   "id": "2423376b-f2a3-4659-8a9e-074566c4e7c6",
   "metadata": {},
   "source": [
    "### 테스트셋 예측 결과 파일 생성"
   ]
  },
  {
   "cell_type": "code",
   "execution_count": 31,
   "id": "58b225e6-d846-4bca-a57b-ed76881e9d7d",
   "metadata": {},
   "outputs": [],
   "source": [
    "path = './raw_data/rotten_tomato/'"
   ]
  },
  {
   "cell_type": "code",
   "execution_count": 32,
   "id": "8ead1ca2-1ed2-4979-a310-48b135b45e6f",
   "metadata": {},
   "outputs": [],
   "source": [
    "import pandas as pd\n",
    "test_df  = pd.read_csv(path + 'testset_filtered.csv')"
   ]
  },
  {
   "cell_type": "code",
   "execution_count": 33,
   "id": "1bbfe168-f4ee-49c3-8b2c-be89f57ca504",
   "metadata": {},
   "outputs": [
    {
     "data": {
      "text/html": [
       "<div>\n",
       "<style scoped>\n",
       "    .dataframe tbody tr th:only-of-type {\n",
       "        vertical-align: middle;\n",
       "    }\n",
       "\n",
       "    .dataframe tbody tr th {\n",
       "        vertical-align: top;\n",
       "    }\n",
       "\n",
       "    .dataframe thead th {\n",
       "        text-align: right;\n",
       "    }\n",
       "</style>\n",
       "<table border=\"1\" class=\"dataframe\">\n",
       "  <thead>\n",
       "    <tr style=\"text-align: right;\">\n",
       "      <th></th>\n",
       "      <th>user_id</th>\n",
       "      <th>movie_id</th>\n",
       "      <th>review_score</th>\n",
       "      <th>sentiment</th>\n",
       "      <th>emotion</th>\n",
       "      <th>review_date</th>\n",
       "      <th>review_content</th>\n",
       "      <th>origin_rating_0.5</th>\n",
       "      <th>rating_0.5</th>\n",
       "    </tr>\n",
       "  </thead>\n",
       "  <tbody>\n",
       "    <tr>\n",
       "      <th>0</th>\n",
       "      <td>8557</td>\n",
       "      <td>6677</td>\n",
       "      <td>0.70</td>\n",
       "      <td>3</td>\n",
       "      <td>0</td>\n",
       "      <td>2007-06-30</td>\n",
       "      <td>Not since Lecter has a role been this well sui...</td>\n",
       "      <td>3.650</td>\n",
       "      <td>3.5</td>\n",
       "    </tr>\n",
       "    <tr>\n",
       "      <th>1</th>\n",
       "      <td>5108</td>\n",
       "      <td>6677</td>\n",
       "      <td>0.70</td>\n",
       "      <td>3</td>\n",
       "      <td>2</td>\n",
       "      <td>2007-06-30</td>\n",
       "      <td>Anthony Hopkins and Ryan Gosling are electrify...</td>\n",
       "      <td>3.650</td>\n",
       "      <td>3.5</td>\n",
       "    </tr>\n",
       "    <tr>\n",
       "      <th>2</th>\n",
       "      <td>2487</td>\n",
       "      <td>6677</td>\n",
       "      <td>0.75</td>\n",
       "      <td>3</td>\n",
       "      <td>2</td>\n",
       "      <td>2007-06-30</td>\n",
       "      <td>The main draw, of course, is watching Hopkins ...</td>\n",
       "      <td>3.875</td>\n",
       "      <td>3.5</td>\n",
       "    </tr>\n",
       "    <tr>\n",
       "      <th>3</th>\n",
       "      <td>6613</td>\n",
       "      <td>6677</td>\n",
       "      <td>0.60</td>\n",
       "      <td>4</td>\n",
       "      <td>2</td>\n",
       "      <td>2007-06-30</td>\n",
       "      <td>Enjoyable, stylishly directed thriller with a ...</td>\n",
       "      <td>3.200</td>\n",
       "      <td>3.0</td>\n",
       "    </tr>\n",
       "    <tr>\n",
       "      <th>4</th>\n",
       "      <td>8103</td>\n",
       "      <td>12292</td>\n",
       "      <td>0.70</td>\n",
       "      <td>4</td>\n",
       "      <td>2</td>\n",
       "      <td>2007-06-30</td>\n",
       "      <td>Once again, Pixar has crafted a quality story ...</td>\n",
       "      <td>3.650</td>\n",
       "      <td>3.5</td>\n",
       "    </tr>\n",
       "  </tbody>\n",
       "</table>\n",
       "</div>"
      ],
      "text/plain": [
       "   user_id  movie_id  review_score  sentiment  emotion review_date  \\\n",
       "0     8557      6677          0.70          3        0  2007-06-30   \n",
       "1     5108      6677          0.70          3        2  2007-06-30   \n",
       "2     2487      6677          0.75          3        2  2007-06-30   \n",
       "3     6613      6677          0.60          4        2  2007-06-30   \n",
       "4     8103     12292          0.70          4        2  2007-06-30   \n",
       "\n",
       "                                      review_content  origin_rating_0.5  \\\n",
       "0  Not since Lecter has a role been this well sui...              3.650   \n",
       "1  Anthony Hopkins and Ryan Gosling are electrify...              3.650   \n",
       "2  The main draw, of course, is watching Hopkins ...              3.875   \n",
       "3  Enjoyable, stylishly directed thriller with a ...              3.200   \n",
       "4  Once again, Pixar has crafted a quality story ...              3.650   \n",
       "\n",
       "   rating_0.5  \n",
       "0         3.5  \n",
       "1         3.5  \n",
       "2         3.5  \n",
       "3         3.0  \n",
       "4         3.5  "
      ]
     },
     "execution_count": 33,
     "metadata": {},
     "output_type": "execute_result"
    }
   ],
   "source": [
    "test_df.head()"
   ]
  },
  {
   "cell_type": "code",
   "execution_count": 34,
   "id": "260620af-75cc-4e66-a750-bde80552ce1b",
   "metadata": {},
   "outputs": [
    {
     "data": {
      "text/html": [
       "<div>\n",
       "<style scoped>\n",
       "    .dataframe tbody tr th:only-of-type {\n",
       "        vertical-align: middle;\n",
       "    }\n",
       "\n",
       "    .dataframe tbody tr th {\n",
       "        vertical-align: top;\n",
       "    }\n",
       "\n",
       "    .dataframe thead th {\n",
       "        text-align: right;\n",
       "    }\n",
       "</style>\n",
       "<table border=\"1\" class=\"dataframe\">\n",
       "  <thead>\n",
       "    <tr style=\"text-align: right;\">\n",
       "      <th></th>\n",
       "      <th>user_id</th>\n",
       "      <th>movie_id</th>\n",
       "    </tr>\n",
       "  </thead>\n",
       "  <tbody>\n",
       "    <tr>\n",
       "      <th>0</th>\n",
       "      <td>8557</td>\n",
       "      <td>6677</td>\n",
       "    </tr>\n",
       "    <tr>\n",
       "      <th>1</th>\n",
       "      <td>5108</td>\n",
       "      <td>6677</td>\n",
       "    </tr>\n",
       "    <tr>\n",
       "      <th>2</th>\n",
       "      <td>2487</td>\n",
       "      <td>6677</td>\n",
       "    </tr>\n",
       "    <tr>\n",
       "      <th>3</th>\n",
       "      <td>6613</td>\n",
       "      <td>6677</td>\n",
       "    </tr>\n",
       "    <tr>\n",
       "      <th>4</th>\n",
       "      <td>8103</td>\n",
       "      <td>12292</td>\n",
       "    </tr>\n",
       "    <tr>\n",
       "      <th>...</th>\n",
       "      <td>...</td>\n",
       "      <td>...</td>\n",
       "    </tr>\n",
       "    <tr>\n",
       "      <th>28761</th>\n",
       "      <td>2495</td>\n",
       "      <td>16971</td>\n",
       "    </tr>\n",
       "    <tr>\n",
       "      <th>28762</th>\n",
       "      <td>2495</td>\n",
       "      <td>5423</td>\n",
       "    </tr>\n",
       "    <tr>\n",
       "      <th>28763</th>\n",
       "      <td>7229</td>\n",
       "      <td>13424</td>\n",
       "    </tr>\n",
       "    <tr>\n",
       "      <th>28764</th>\n",
       "      <td>7229</td>\n",
       "      <td>13424</td>\n",
       "    </tr>\n",
       "    <tr>\n",
       "      <th>28765</th>\n",
       "      <td>1754</td>\n",
       "      <td>10288</td>\n",
       "    </tr>\n",
       "  </tbody>\n",
       "</table>\n",
       "<p>28766 rows × 2 columns</p>\n",
       "</div>"
      ],
      "text/plain": [
       "       user_id  movie_id\n",
       "0         8557      6677\n",
       "1         5108      6677\n",
       "2         2487      6677\n",
       "3         6613      6677\n",
       "4         8103     12292\n",
       "...        ...       ...\n",
       "28761     2495     16971\n",
       "28762     2495      5423\n",
       "28763     7229     13424\n",
       "28764     7229     13424\n",
       "28765     1754     10288\n",
       "\n",
       "[28766 rows x 2 columns]"
      ]
     },
     "execution_count": 34,
     "metadata": {},
     "output_type": "execute_result"
    }
   ],
   "source": [
    "test_df.iloc[:,:2]"
   ]
  },
  {
   "cell_type": "code",
   "execution_count": 43,
   "id": "45cad61c-4375-457e-9c03-e012eeb21b75",
   "metadata": {},
   "outputs": [],
   "source": [
    "pred_df = pd.DataFrame([x for x in zip(predict_test_list, label_test_list)])\n",
    "pred_df.rename(columns={0:'predict', 1:'label'}, inplace=True)"
   ]
  },
  {
   "cell_type": "code",
   "execution_count": 44,
   "id": "cad64691-2679-431e-934d-a753868b8197",
   "metadata": {},
   "outputs": [
    {
     "data": {
      "text/html": [
       "<div>\n",
       "<style scoped>\n",
       "    .dataframe tbody tr th:only-of-type {\n",
       "        vertical-align: middle;\n",
       "    }\n",
       "\n",
       "    .dataframe tbody tr th {\n",
       "        vertical-align: top;\n",
       "    }\n",
       "\n",
       "    .dataframe thead th {\n",
       "        text-align: right;\n",
       "    }\n",
       "</style>\n",
       "<table border=\"1\" class=\"dataframe\">\n",
       "  <thead>\n",
       "    <tr style=\"text-align: right;\">\n",
       "      <th></th>\n",
       "      <th>predict</th>\n",
       "      <th>label</th>\n",
       "    </tr>\n",
       "  </thead>\n",
       "  <tbody>\n",
       "    <tr>\n",
       "      <th>0</th>\n",
       "      <td>3.254683</td>\n",
       "      <td>3.5</td>\n",
       "    </tr>\n",
       "    <tr>\n",
       "      <th>1</th>\n",
       "      <td>3.542311</td>\n",
       "      <td>3.5</td>\n",
       "    </tr>\n",
       "    <tr>\n",
       "      <th>2</th>\n",
       "      <td>3.033718</td>\n",
       "      <td>3.5</td>\n",
       "    </tr>\n",
       "    <tr>\n",
       "      <th>3</th>\n",
       "      <td>3.292193</td>\n",
       "      <td>3.0</td>\n",
       "    </tr>\n",
       "    <tr>\n",
       "      <th>4</th>\n",
       "      <td>4.227084</td>\n",
       "      <td>3.5</td>\n",
       "    </tr>\n",
       "  </tbody>\n",
       "</table>\n",
       "</div>"
      ],
      "text/plain": [
       "    predict  label\n",
       "0  3.254683    3.5\n",
       "1  3.542311    3.5\n",
       "2  3.033718    3.5\n",
       "3  3.292193    3.0\n",
       "4  4.227084    3.5"
      ]
     },
     "execution_count": 44,
     "metadata": {},
     "output_type": "execute_result"
    }
   ],
   "source": [
    "pred_df.head()"
   ]
  },
  {
   "cell_type": "code",
   "execution_count": 45,
   "id": "ec50f0d7-3835-40ab-8a48-1880e0bb1685",
   "metadata": {},
   "outputs": [
    {
     "name": "stdout",
     "output_type": "stream",
     "text": [
      "28766\n",
      "28766\n"
     ]
    }
   ],
   "source": [
    "print(len(test_df))\n",
    "print(len(pred_df))"
   ]
  },
  {
   "cell_type": "code",
   "execution_count": 50,
   "id": "a0e947bf-9126-4ed1-bfa6-769f188ba1f7",
   "metadata": {},
   "outputs": [],
   "source": [
    "result_df = pd.concat([test_df.iloc[:,:2], pred_df], axis=1)"
   ]
  },
  {
   "cell_type": "code",
   "execution_count": 51,
   "id": "6e8f7180-ecea-4d76-99ef-27f4f991c44b",
   "metadata": {},
   "outputs": [
    {
     "data": {
      "text/html": [
       "<div>\n",
       "<style scoped>\n",
       "    .dataframe tbody tr th:only-of-type {\n",
       "        vertical-align: middle;\n",
       "    }\n",
       "\n",
       "    .dataframe tbody tr th {\n",
       "        vertical-align: top;\n",
       "    }\n",
       "\n",
       "    .dataframe thead th {\n",
       "        text-align: right;\n",
       "    }\n",
       "</style>\n",
       "<table border=\"1\" class=\"dataframe\">\n",
       "  <thead>\n",
       "    <tr style=\"text-align: right;\">\n",
       "      <th></th>\n",
       "      <th>user_id</th>\n",
       "      <th>movie_id</th>\n",
       "      <th>predict</th>\n",
       "      <th>label</th>\n",
       "    </tr>\n",
       "  </thead>\n",
       "  <tbody>\n",
       "    <tr>\n",
       "      <th>0</th>\n",
       "      <td>8557</td>\n",
       "      <td>6677</td>\n",
       "      <td>3.254683</td>\n",
       "      <td>3.5</td>\n",
       "    </tr>\n",
       "    <tr>\n",
       "      <th>1</th>\n",
       "      <td>5108</td>\n",
       "      <td>6677</td>\n",
       "      <td>3.542311</td>\n",
       "      <td>3.5</td>\n",
       "    </tr>\n",
       "    <tr>\n",
       "      <th>2</th>\n",
       "      <td>2487</td>\n",
       "      <td>6677</td>\n",
       "      <td>3.033718</td>\n",
       "      <td>3.5</td>\n",
       "    </tr>\n",
       "    <tr>\n",
       "      <th>3</th>\n",
       "      <td>6613</td>\n",
       "      <td>6677</td>\n",
       "      <td>3.292193</td>\n",
       "      <td>3.0</td>\n",
       "    </tr>\n",
       "    <tr>\n",
       "      <th>4</th>\n",
       "      <td>8103</td>\n",
       "      <td>12292</td>\n",
       "      <td>4.227084</td>\n",
       "      <td>3.5</td>\n",
       "    </tr>\n",
       "  </tbody>\n",
       "</table>\n",
       "</div>"
      ],
      "text/plain": [
       "   user_id  movie_id   predict  label\n",
       "0     8557      6677  3.254683    3.5\n",
       "1     5108      6677  3.542311    3.5\n",
       "2     2487      6677  3.033718    3.5\n",
       "3     6613      6677  3.292193    3.0\n",
       "4     8103     12292  4.227084    3.5"
      ]
     },
     "execution_count": 51,
     "metadata": {},
     "output_type": "execute_result"
    }
   ],
   "source": [
    "result_df.head()"
   ]
  },
  {
   "cell_type": "code",
   "execution_count": 54,
   "id": "1e889691-7842-4526-b0f3-cd6c702331b4",
   "metadata": {},
   "outputs": [],
   "source": [
    "path = './raw_data/model/'\n",
    "result_df.to_csv(path + f'test_pred.csv', index=False)"
   ]
  },
  {
   "cell_type": "markdown",
   "id": "6c1988df-1a62-48fb-a19c-02a711e3cd68",
   "metadata": {},
   "source": [
    "## 시각화"
   ]
  },
  {
   "cell_type": "code",
   "execution_count": 17,
   "id": "3a450b19-efc6-4a71-8ec8-5d97b9d8dfb6",
   "metadata": {},
   "outputs": [],
   "source": [
    "from tsne_torch import TorchTSNE as TSNE"
   ]
  },
  {
   "cell_type": "code",
   "execution_count": 18,
   "id": "ab764ca6-f761-4e1c-9130-dd7b24d4ad40",
   "metadata": {
    "collapsed": true,
    "jupyter": {
     "outputs_hidden": true
    },
    "tags": []
   },
   "outputs": [
    {
     "name": "stderr",
     "output_type": "stream",
     "text": [
      "using cuda\n",
      "initializing...\n",
      "C:\\Users\\user\\anaconda3\\envs\\graph\\lib\\site-packages\\tsne_torch\\tsne_torch.py:124: UserWarning: torch.eig is deprecated in favor of torch.linalg.eig and will be removed in a future PyTorch release.\n",
      "torch.linalg.eig returns complex tensors of dtype cfloat or cdouble rather than real tensors mimicking complex tensors.\n",
      "L, _ = torch.eig(A)\n",
      "should be replaced with\n",
      "L_complex = torch.linalg.eigvals(A)\n",
      "and\n",
      "L, V = torch.eig(A, eigenvectors=True)\n",
      "should be replaced with\n",
      "L_complex, V_complex = torch.linalg.eig(A) (Triggered internally at  ..\\aten\\src\\ATen\\native\\BatchLinearAlgebra.cpp:2897.)\n",
      "  (l, M) = torch.eig(torch.mm(X.t(), X), True)\n",
      "computing p-values...\n"
     ]
    },
    {
     "data": {
      "application/vnd.jupyter.widget-view+json": {
       "model_id": "3ebae3588c824d83b5682053e52c2c54",
       "version_major": 2,
       "version_minor": 0
      },
      "text/plain": [
       "  0%|          | 0/30 [00:00<?, ?it/s]"
      ]
     },
     "metadata": {},
     "output_type": "display_data"
    },
    {
     "name": "stderr",
     "output_type": "stream",
     "text": [
      "fitting...\n"
     ]
    },
    {
     "data": {
      "application/vnd.jupyter.widget-view+json": {
       "model_id": "9345f9a85e804169a55aff888afbe163",
       "version_major": 2,
       "version_minor": 0
      },
      "text/plain": [
       "  0%|          | 0/1000 [00:00<?, ?it/s]"
      ]
     },
     "metadata": {},
     "output_type": "display_data"
    },
    {
     "name": "stderr",
     "output_type": "stream",
     "text": [
      "using cuda\n",
      "initializing...\n",
      "computing p-values...\n"
     ]
    },
    {
     "data": {
      "application/vnd.jupyter.widget-view+json": {
       "model_id": "b149c38e9d594f97869ef2dc90ab7b9a",
       "version_major": 2,
       "version_minor": 0
      },
      "text/plain": [
       "  0%|          | 0/30 [00:00<?, ?it/s]"
      ]
     },
     "metadata": {},
     "output_type": "display_data"
    },
    {
     "name": "stderr",
     "output_type": "stream",
     "text": [
      "fitting...\n"
     ]
    },
    {
     "data": {
      "application/vnd.jupyter.widget-view+json": {
       "model_id": "21308e3fc9b84480bb5beb56da8a20d0",
       "version_major": 2,
       "version_minor": 0
      },
      "text/plain": [
       "  0%|          | 0/1000 [00:00<?, ?it/s]"
      ]
     },
     "metadata": {},
     "output_type": "display_data"
    },
    {
     "name": "stderr",
     "output_type": "stream",
     "text": [
      "using cuda\n",
      "initializing...\n",
      "computing p-values...\n"
     ]
    },
    {
     "data": {
      "application/vnd.jupyter.widget-view+json": {
       "model_id": "1743a3ae3a2e41bfb93e92597de9d66e",
       "version_major": 2,
       "version_minor": 0
      },
      "text/plain": [
       "  0%|          | 0/30 [00:00<?, ?it/s]"
      ]
     },
     "metadata": {},
     "output_type": "display_data"
    },
    {
     "name": "stderr",
     "output_type": "stream",
     "text": [
      "fitting...\n"
     ]
    },
    {
     "data": {
      "application/vnd.jupyter.widget-view+json": {
       "model_id": "52291d11e76f4c1bb9907b58eaddfcba",
       "version_major": 2,
       "version_minor": 0
      },
      "text/plain": [
       "  0%|          | 0/1000 [00:00<?, ?it/s]"
      ]
     },
     "metadata": {},
     "output_type": "display_data"
    },
    {
     "name": "stderr",
     "output_type": "stream",
     "text": [
      "using cuda\n",
      "initializing...\n",
      "computing p-values...\n"
     ]
    },
    {
     "data": {
      "application/vnd.jupyter.widget-view+json": {
       "model_id": "cb7209edfc4f44af9667a28f144900ab",
       "version_major": 2,
       "version_minor": 0
      },
      "text/plain": [
       "  0%|          | 0/30 [00:00<?, ?it/s]"
      ]
     },
     "metadata": {},
     "output_type": "display_data"
    },
    {
     "name": "stderr",
     "output_type": "stream",
     "text": [
      "fitting...\n"
     ]
    },
    {
     "data": {
      "application/vnd.jupyter.widget-view+json": {
       "model_id": "0c41735509e940958fc2db6ee879c427",
       "version_major": 2,
       "version_minor": 0
      },
      "text/plain": [
       "  0%|          | 0/1000 [00:00<?, ?it/s]"
      ]
     },
     "metadata": {},
     "output_type": "display_data"
    }
   ],
   "source": [
    "emb_agg = model.agg_x.cpu()  # shape (n_samples, d)\n",
    "emb_agg = TSNE(n_components=2, perplexity=30, n_iter=1000, verbose=True).fit_transform(emb_agg)  # returns shape (n_samples, 2)\n",
    "\n",
    "emb_r = model.x_r.cpu()\n",
    "emb_r = TSNE(n_components=2, perplexity=30, n_iter=1000, verbose=True).fit_transform(emb_r)  # returns shape (n_samples, 2)\n",
    "\n",
    "emb_s = model.x_s.cpu() \n",
    "emb_s = TSNE(n_components=2, perplexity=30, n_iter=1000, verbose=True).fit_transform(emb_s)  # returns shape (n_samples, 2)\n",
    "\n",
    "emb_e = model.x_e.cpu()\n",
    "emb_e = TSNE(n_components=2, perplexity=30, n_iter=1000, verbose=True).fit_transform(emb_e)  # returns shape (n_samples, 2)"
   ]
  },
  {
   "cell_type": "code",
   "execution_count": 20,
   "id": "a21c8d99-aef5-4656-97f3-e1391950c463",
   "metadata": {},
   "outputs": [],
   "source": [
    "emb_list = [emb_agg, emb_r, emb_s, emb_e]"
   ]
  },
  {
   "cell_type": "code",
   "execution_count": 28,
   "id": "53ad0f02-384a-4853-b4ae-df7d82f77998",
   "metadata": {},
   "outputs": [],
   "source": [
    "from pandas import Series, DataFrame\n",
    "result_list = list()\n",
    "\n",
    "for num, emb in enumerate(emb_list):\n",
    "    x_value = emb[:,0]\n",
    "    y_value = emb[:,1]\n",
    "    label = [num for i in range(30)]\n",
    "    data = {\n",
    "        'x': x_value,\n",
    "        'y': y_value,\n",
    "        'label' : label\n",
    "    }\n",
    "    df = DataFrame(data)\n",
    "    result_list.append(df)"
   ]
  },
  {
   "cell_type": "code",
   "execution_count": 29,
   "id": "0aaaa419-8641-4a05-8b3c-6f67fc1f33d2",
   "metadata": {},
   "outputs": [],
   "source": [
    "import pandas as pd\n",
    "result_df = pd.concat([result_list[i] for i in range(4)], ignore_index=True)\n",
    "# result_df_good = pd.concat([result_list_good[i] for i in range(4)], ignore_index=True)"
   ]
  },
  {
   "cell_type": "code",
   "execution_count": 30,
   "id": "da3faa3d-22c5-4e3b-9fd2-1dbf305307b3",
   "metadata": {},
   "outputs": [],
   "source": [
    "result_df.loc[result_df['label'] == 0, 'label'] = 'total'\n",
    "result_df.loc[result_df['label'] == 1, 'label'] = 'rating'\n",
    "result_df.loc[result_df['label'] == 2, 'label'] = 'sentiment'\n",
    "result_df.loc[result_df['label'] == 3, 'label'] = 'emotion'\n",
    "\n",
    "# result_df_good.loc[result_df_good['label'] == 0, 'label'] = 'total'\n",
    "# result_df_good.loc[result_df_good['label'] == 1, 'label'] = 'rating'\n",
    "# result_df_good.loc[result_df_good['label'] == 2, 'label'] = 'sentiment'\n",
    "# result_df_good.loc[result_df_good['label'] == 3, 'label'] = 'emotion'"
   ]
  },
  {
   "cell_type": "code",
   "execution_count": 31,
   "id": "93f33a0f-c1d1-4b45-b782-758da5da081f",
   "metadata": {},
   "outputs": [],
   "source": [
    "import numpy as np\n",
    "import pandas as pd\n",
    "import matplotlib.pyplot as plt\n",
    "import seaborn as sns"
   ]
  },
  {
   "cell_type": "code",
   "execution_count": 36,
   "id": "32bf8f2c-1d97-440d-9b13-98a63d3206f2",
   "metadata": {},
   "outputs": [
    {
     "data": {
      "image/png": "[encoded data removed]",
      "text/plain": [
       "<Figure size 720x432 with 1 Axes>"
      ]
     },
     "metadata": {
      "needs_background": "light"
     },
     "output_type": "display_data"
    }
   ],
   "source": [
    "plt.figure(figsize = (10,6))\n",
    "sns.set_palette(sns.color_palette(\"Paired\"))\n",
    "ax = sns.scatterplot(x=\"x\", y=\"y\", hue='label', style='label' , data=result_df, palette='deep', s=50)\n",
    "\n",
    "# Customize the axes and title\n",
    "ax.set_title(\"t-SNE visualization\")\n",
    "ax.set_xlabel(\"latent_space_x\")\n",
    "ax.set_ylabel(\"latent_space_y\")\n",
    "\n",
    "ax.spines['top'].set_visible(False)\n",
    "ax.spines['right'].set_visible(False)\n",
    "plt.show()"
   ]
  },
  {
   "cell_type": "code",
   "execution_count": 34,
   "id": "37574cd8-e0c6-443c-afb3-89721bf99382",
   "metadata": {},
   "outputs": [
    {
     "data": {
      "image/png": "[encoded data removed]",
      "text/plain": [
       "<Figure size 720x432 with 1 Axes>"
      ]
     },
     "metadata": {
      "needs_background": "light"
     },
     "output_type": "display_data"
    }
   ],
   "source": [
    "plt.figure(figsize = (10,6))\n",
    "sns.set_palette(sns.color_palette(\"Paired\"))\n",
    "ax = sns.scatterplot(x=\"x\", y=\"y\", hue='label', style='label' , data=result_df[:30], palette='deep', s=50)\n",
    "\n",
    "# Customize the axes and title\n",
    "ax.set_title(\"t-SNE visualization\")\n",
    "ax.set_xlabel(\"latent_space_x\")\n",
    "ax.set_ylabel(\"latent_space_y\")\n",
    "\n",
    "ax.spines['top'].set_visible(False)\n",
    "ax.spines['right'].set_visible(False)\n",
    "plt.show()"
   ]
  },
  {
   "cell_type": "code",
   "execution_count": null,
   "id": "1e8fdf2e-88f1-4cba-8e38-58d22283c196",
   "metadata": {},
   "outputs": [],
   "source": []
  }
 ],
 "metadata": {
  "kernelspec": {
   "display_name": "Python 3 (ipykernel)",
   "language": "python",
   "name": "python3"
  },
  "language_info": {
   "codemirror_mode": {
    "name": "ipython",
    "version": 3
   },
   "file_extension": ".py",
   "mimetype": "text/x-python",
   "name": "python",
   "nbconvert_exporter": "python",
   "pygments_lexer": "ipython3",
   "version": "3.8.11"
  }
 },
 "nbformat": 4,
 "nbformat_minor": 5
}
