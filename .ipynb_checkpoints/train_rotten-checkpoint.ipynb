{
 "cells": [
  {
   "cell_type": "code",
   "execution_count": 68,
   "id": "9ee754ff-2a3d-4760-9dde-f35b5079e53b",
   "metadata": {},
   "outputs": [
    {
     "name": "stdout",
     "output_type": "stream",
     "text": [
      "  Training epoch took: 0:00:00\n"
     ]
    }
   ],
   "source": [
    "import time\n",
    "import datetime\n",
    "# 시간 표시 함수\n",
    "def format_time(elapsed):\n",
    "    # 반올림\n",
    "    elapsed_rounded = int(round((elapsed)))\n",
    "    # hh:mm:ss으로 형태 변경\n",
    "    return str(datetime.timedelta(seconds=elapsed_rounded))\n",
    "\n",
    "start_time = time.time()\n",
    "print(\"  Training epoch took: {:}\".format(format_time(time.time() - start_time)))"
   ]
  },
  {
   "cell_type": "code",
   "execution_count": 69,
   "id": "c5af6c94-0780-4733-88b7-286a4a08728a",
   "metadata": {},
   "outputs": [],
   "source": [
    "\"\"\"Training IGMC model on the MovieLens dataset.\"\"\"\n",
    "\n",
    "import os\n",
    "import sys\n",
    "import time\n",
    "import glob\n",
    "import random\n",
    "import argparse\n",
    "from shutil import copy\n",
    "\n",
    "import numpy as np\n",
    "import torch as th\n",
    "import torch.nn as nn\n",
    "import torch.optim as optim\n",
    "\n",
    "from model import IGMC\n",
    "from data_rotten import RottenTomato\n",
    "from dataset_rotten import RottenTomatoDataset, collate_rotten_tomato\n",
    "from utils import MetricLogger"
   ]
  },
  {
   "cell_type": "code",
   "execution_count": 70,
   "id": "54c1bb83-260d-40b8-900b-6c27d7da5134",
   "metadata": {},
   "outputs": [],
   "source": [
    "def evaluate(model, loader, device):\n",
    "    # Evaluate RMSE\n",
    "    model.eval()\n",
    "    mse = 0.\n",
    "    for batch in loader:\n",
    "        # 0.5 level로 변경함.\n",
    "        with th.no_grad():\n",
    "            preds = (model(batch[0].to(device)) + 1)/ 2\n",
    "        labels = (batch[1].to(device) + 1)/ 2\n",
    "        mse += ((preds - labels) ** 2).sum().item()\n",
    "    mse /= len(loader.dataset)\n",
    "    return np.sqrt(mse)\n",
    "\n",
    "def adj_rating_reg(model):\n",
    "    arr_loss = 0\n",
    "    for conv in model.convs:\n",
    "        weight = conv.weight.view(conv.num_bases, conv.in_feat * conv.out_feat)\n",
    "        weight = th.matmul(conv.w_comp, weight).view(conv.num_rels, conv.in_feat, conv.out_feat)\n",
    "        arr_loss += th.sum((weight[1:, :, :] - weight[:-1, :, :])**2)\n",
    "    return arr_loss\n",
    "\n",
    "# @profile\n",
    "def train_epoch(model, loss_fn, optimizer, arr_lambda, loader, device, log_interval):\n",
    "    model.train()\n",
    "\n",
    "    epoch_loss = 0.\n",
    "    iter_loss = 0.\n",
    "    iter_mse = 0.\n",
    "    iter_cnt = 0\n",
    "    iter_dur = []\n",
    "\n",
    "    for iter_idx, batch in enumerate(loader, start=1):\n",
    "        t_start = time.time()\n",
    "\n",
    "        inputs = batch[0].to(device)\n",
    "        labels = batch[1].to(device)\n",
    "        preds = model(inputs)\n",
    "        loss = loss_fn(preds, labels).mean() + arr_lambda * adj_rating_reg(model)\n",
    "        \n",
    "        optimizer.zero_grad()\n",
    "        loss.backward()\n",
    "        optimizer.step()\n",
    "\n",
    "        epoch_loss += loss.item() * preds.shape[0]\n",
    "        iter_loss += loss.item() * preds.shape[0]\n",
    "        iter_mse += ((preds - labels) ** 2).sum().item()\n",
    "        iter_cnt += preds.shape[0]\n",
    "        iter_dur.append(time.time() - t_start)\n",
    "\n",
    "        if iter_idx % log_interval == 0:\n",
    "            print(\"Iter={}, loss={:.4f}, mse={:.4f}, time={:.4f}\".format(\n",
    "                iter_idx, iter_loss/iter_cnt, iter_mse/iter_cnt, np.average(iter_dur)))\n",
    "            iter_loss = 0.\n",
    "            iter_mse = 0.\n",
    "            iter_cnt = 0\n",
    "\n",
    "    return epoch_loss / len(loader.dataset)\n",
    "\n",
    "def train(args):\n",
    "    movielens = MovieLens(args.data_name, testing=args.testing,\n",
    "                            test_ratio=args.data_test_ratio, valid_ratio=args.data_valid_ratio)\n",
    "    if args.testing:\n",
    "        test_dataset = RottenTomatoDataset(\n",
    "            movielens.test_rating_pairs, movielens.test_rating_values, movielens.train_graph, \n",
    "            args.hop, args.sample_ratio, args.max_nodes_per_hop) \n",
    "    else:\n",
    "        test_dataset = RottenTomatoDataset(\n",
    "            movielens.valid_rating_pairs, movielens.valid_rating_values, movielens.train_graph, \n",
    "            args.hop, args.sample_ratio, args.max_nodes_per_hop)\n",
    "    train_dataset = RottenTomatoDataset(\n",
    "        movielens.train_rating_pairs, movielens.train_rating_values, movielens.train_graph, \n",
    "        args.hop, args.sample_ratio, args.max_nodes_per_hop)\n",
    "\n",
    "    train_loader = th.utils.data.DataLoader(train_dataset, batch_size=args.batch_size, shuffle=True, \n",
    "                            num_workers=args.num_workers, collate_fn=collate_movielens)\n",
    "    test_loader = th.utils.data.DataLoader(test_dataset, batch_size=args.batch_size, shuffle=False, \n",
    "                            num_workers=args.num_workers, collate_fn=collate_movielens)\n",
    "\n",
    "    in_feats = (args.hop+1)*2 #+ movielens.train_graph.ndata['refex'].shape[1]\n",
    "    model = IGMC(in_feats=in_feats, \n",
    "                 latent_dim=[32, 32, 32, 32],\n",
    "                 num_relations=5, # movielens.num_rating, \n",
    "                 num_bases=4, \n",
    "                 regression=True, \n",
    "                 edge_dropout=args.edge_dropout,\n",
    "                #  side_features=args.use_features,\n",
    "                #  n_side_features=n_features,\n",
    "                #  multiply_by=args.multiply_by\n",
    "            ).to(args.device)\n",
    "    loss_fn = nn.MSELoss().to(args.device)\n",
    "    optimizer = optim.Adam(model.parameters(), lr=args.train_lr, weight_decay=0)\n",
    "    print(\"Loading network finished ...\\n\")\n",
    "\n",
    "    ### prepare the logger\n",
    "    logger = MetricLogger(args.save_dir, args.valid_log_interval)\n",
    "    \n",
    "    best_epoch = 0\n",
    "    best_rmse = np.inf\n",
    "    ### declare the loss information\n",
    "    print(\"Start training ...\")\n",
    "    for epoch_idx in range(1, args.train_epochs+1):\n",
    "        print ('Epoch', epoch_idx)\n",
    "    \n",
    "        train_loss = train_epoch(model, loss_fn, optimizer, args.arr_lambda, \n",
    "                                train_loader, args.device, args.train_log_interval)\n",
    "        test_rmse = evaluate(model, test_loader, args.device)\n",
    "        eval_info = {\n",
    "            'epoch': epoch_idx,\n",
    "            'train_loss': train_loss,\n",
    "            'test_rmse': test_rmse,\n",
    "        }\n",
    "        print('=== Epoch {}, train loss {:.6f}, test rmse {:.6f} ==='.format(*eval_info.values()))\n",
    "\n",
    "        if epoch_idx % args.train_lr_decay_step == 0:\n",
    "            for param in optimizer.param_groups:\n",
    "                param['lr'] = args.train_lr_decay_factor * param['lr']\n",
    "\n",
    "        logger.log(eval_info, model, optimizer)\n",
    "        if best_rmse > test_rmse:\n",
    "            best_rmse = test_rmse\n",
    "            best_epoch = epoch_idx\n",
    "    eval_info = \"Training ends. The best testing rmse is {:.6f} at epoch {}\".format(best_rmse, best_epoch)\n",
    "    print(eval_info)\n",
    "    with open(os.path.join(args.save_dir, 'log.txt'), 'a') as f:\n",
    "        f.write(eval_info)"
   ]
  },
  {
   "cell_type": "code",
   "execution_count": 71,
   "id": "d4fbabcc-6d45-4d08-8d5e-f9f483e56aed",
   "metadata": {
    "tags": []
   },
   "outputs": [],
   "source": [
    "def config():\n",
    "    parser = argparse.ArgumentParser(description='IGMC')\n",
    "    # general settings\n",
    "    parser.add_argument('--testing', action='store_true', default=False,\n",
    "                        help='if set, use testing mode which splits all ratings into train/test;\\\n",
    "                        otherwise, use validation model which splits all ratings into \\\n",
    "                        train/val/test and evaluate on val only')\n",
    "    parser.add_argument('--device', default='0', type=int,\n",
    "                        help='Running device. E.g `--device 0`, if using cpu, set `--device -1`')\n",
    "    parser.add_argument('--seed', type=int, default=1234, metavar='S',\n",
    "                        help='random seed (default: 1234)')\n",
    "    parser.add_argument('--data_name', default='ml-100k', type=str,\n",
    "                        help='The dataset name: ml-100k, ml-1m')\n",
    "    parser.add_argument('--data_test_ratio', type=float, default=0.1) # for ml-100k the test ration is 0.2\n",
    "    parser.add_argument('--num_workers', type=int, default=8)\n",
    "    parser.add_argument('--data_valid_ratio', type=float, default=0.2)\n",
    "    # parser.add_argument('--ensemble', action='store_true', default=False,\n",
    "    #                     help='if True, load a series of model checkpoints and ensemble the results')               \n",
    "    parser.add_argument('--train_log_interval', type=int, default=100)\n",
    "    parser.add_argument('--valid_log_interval', type=int, default=10)\n",
    "    parser.add_argument('--save_appendix', type=str, default='debug', \n",
    "                        help='what to append to save-names when saving results')\n",
    "    # subgraph extraction settings\n",
    "    parser.add_argument('--hop', default=1, metavar='S', \n",
    "                        help='enclosing subgraph hop number')\n",
    "    parser.add_argument('--sample_ratio', type=float, default=1.0, \n",
    "                        help='if < 1, subsample nodes per hop according to the ratio')\n",
    "    parser.add_argument('--max_nodes_per_hop', type=int, default=200, \n",
    "                        help='if > 0, upper bound the # nodes per hop by another subsampling')\n",
    "    # parser.add_argument('--use_features', action='store_true', default=False,\n",
    "    #                     help='whether to use node features (side information)')\n",
    "    # edge dropout settings\n",
    "    parser.add_argument('--edge_dropout', type=float, default=0.2, \n",
    "                        help='if not 0, random drops edges from adjacency matrix with this prob')\n",
    "    parser.add_argument('--force_undirected', action='store_true', default=False, \n",
    "                        help='in edge dropout, force (x, y) and (y, x) to be dropped together')\n",
    "    # optimization settings\n",
    "    parser.add_argument('--train_lr', type=float, default=1e-3)\n",
    "    parser.add_argument('--train_min_lr', type=float, default=1e-6)\n",
    "    parser.add_argument('--train_lr_decay_factor', type=float, default=0.1)\n",
    "    parser.add_argument('--train_lr_decay_step', type=int, default=50)\n",
    "    parser.add_argument('--train_epochs', type=int, default=80)\n",
    "    parser.add_argument('--batch_size', type=int, default=32)\n",
    "    parser.add_argument('--arr_lambda', type=float, default=0.001)\n",
    "    parser.add_argument('--num_rgcn_bases', type=int, default=4)\n",
    "                \n",
    "    args = parser.parse_args()\n",
    "    args.device = th.device(args.device) if args.device >= 0 and th.cuda.is_available() else th.device('cpu')\n",
    "    \n",
    "    ### set save_dir according to localtime and test mode\n",
    "    file_dir = os.path.dirname(os.path.realpath('__file__'))\n",
    "    val_test_appendix = 'testmode' if args.testing else 'valmode'\n",
    "    local_time = time.strftime('%y%m%d%H%M', time.localtime())\n",
    "    args.save_dir = os.path.join(\n",
    "        file_dir, 'log/{}_{}_{}_{}'.format(\n",
    "            args.data_name, args.save_appendix, val_test_appendix, local_time\n",
    "        )\n",
    "    )\n",
    "    if not os.path.exists(args.save_dir):\n",
    "        os.makedirs(args.save_dir) \n",
    "    print(args)\n",
    "\n",
    "    # backup current .py files\n",
    "    for f in glob.glob(r\"*.py\"):\n",
    "        copy(f, args.save_dir)\n",
    "\n",
    "    # save command line input\n",
    "    cmd_input = 'python3 ' + ' '.join(sys.argv)\n",
    "    with open(os.path.join(args.save_dir, 'cmd_input.txt'), 'a') as f:\n",
    "        f.write(cmd_input)\n",
    "        f.write(\"\\n\")\n",
    "    print('Command line input: ' + cmd_input + ' is saved.')\n",
    "    \n",
    "    return args"
   ]
  },
  {
   "cell_type": "code",
   "execution_count": 72,
   "id": "3a24e649-365e-4f54-b4bd-7796c685b165",
   "metadata": {
    "tags": []
   },
   "outputs": [],
   "source": [
    "# if __name__ == '__main__':\n",
    "#     args = config()\n",
    "#     random.seed(args.seed)\n",
    "#     np.random.seed(args.seed)\n",
    "#     th.manual_seed(args.seed)\n",
    "#     if th.cuda.is_available():\n",
    "#         th.cuda.manual_seed_all(args.seed)\n",
    "#     train(args)"
   ]
  },
  {
   "cell_type": "markdown",
   "id": "68ff187c-d0a5-44d6-bf40-12a1c7927a3b",
   "metadata": {},
   "source": [
    "## 1. Config"
   ]
  },
  {
   "cell_type": "code",
   "execution_count": 87,
   "id": "0218e93a-7bb0-4007-a0d4-194dfbf0fc54",
   "metadata": {},
   "outputs": [],
   "source": [
    "import easydict\n",
    "\n",
    "args = easydict.EasyDict({ \n",
    "    'data_name':            'rotten',\n",
    "    'testing':     \t        True,\n",
    "    'device':      \t        0,\n",
    "    'seed':        \t        1234,\n",
    "    'data_test_ratio':      0.1,\n",
    "    'num_workers':   \t    8,\n",
    "    'data_valid_ratio':     0.2,\n",
    "    'train_log_interval':   200,\n",
    "    'valid_log_interval':   10,\n",
    "    'save_appendix':   \t    'debug',\n",
    "    'hop':   \t            1,\n",
    "    'sample_ratio':    \t    1.0,\n",
    "    'max_nodes_per_hop':    100,\n",
    "    'edge_dropout':   \t    0.2,\n",
    "    'force_undirected':     False,\n",
    "    'train_lr':   \t        1e-3,\n",
    "    'train_min_lr':   \t    1e-6,\n",
    "    'train_lr_decay_factor':0.1,\n",
    "    'train_lr_decay_step':  50,\n",
    "    'train_epochs':   \t    10,\n",
    "    'batch_size':   \t    32,\n",
    "    'arr_lambda':   \t    0.001,\n",
    "    'num_rgcn_bases':   \t4,\n",
    "    'train_epochs':   \t    5\n",
    "})"
   ]
  },
  {
   "cell_type": "code",
   "execution_count": 88,
   "id": "7eefc4e0-e1a6-47fa-af1b-3f79a748f8ae",
   "metadata": {},
   "outputs": [
    {
     "name": "stdout",
     "output_type": "stream",
     "text": [
      "{'data_name': 'rotten', 'testing': True, 'device': 0, 'seed': 1234, 'data_test_ratio': 0.1, 'num_workers': 8, 'data_valid_ratio': 0.2, 'train_log_interval': 200, 'valid_log_interval': 10, 'save_appendix': 'debug', 'hop': 1, 'sample_ratio': 1.0, 'max_nodes_per_hop': 100, 'edge_dropout': 0.2, 'force_undirected': False, 'train_lr': 0.001, 'train_min_lr': 1e-06, 'train_lr_decay_factor': 0.1, 'train_lr_decay_step': 50, 'train_epochs': 5, 'batch_size': 32, 'arr_lambda': 0.001, 'num_rgcn_bases': 4, 'save_dir': 'C:\\\\Users\\\\user\\\\Jupyter_project\\\\keejun\\\\IGMC_CX\\\\log/rotten_debug_testmode_2111131905'}\n",
      "Command line input: python3 C:\\Users\\user\\anaconda3\\envs\\graph\\lib\\site-packages\\ipykernel_launcher.py -f C:\\Users\\user\\AppData\\Roaming\\jupyter\\runtime\\kernel-7883924d-4dcf-438b-ba31-11be03f242f6.json is saved.\n"
     ]
    }
   ],
   "source": [
    "### set save_dir according to localtime and test mode\n",
    "file_dir = os.path.dirname(os.path.realpath('__file__'))\n",
    "val_test_appendix = 'testmode' if args.testing else 'valmode'\n",
    "local_time = time.strftime('%y%m%d%H%M', time.localtime())\n",
    "args.save_dir = os.path.join(\n",
    "    file_dir, 'log/{}_{}_{}_{}'.format(\n",
    "        args.data_name, args.save_appendix, val_test_appendix, local_time\n",
    "    )\n",
    ")\n",
    "if not os.path.exists(args.save_dir):\n",
    "    os.makedirs(args.save_dir) \n",
    "print(args)\n",
    "\n",
    "# backup current .py files\n",
    "for f in glob.glob(r\"*.py\"):\n",
    "    copy(f, args.save_dir)\n",
    "\n",
    "# save command line input\n",
    "cmd_input = 'python3 ' + ' '.join(sys.argv)\n",
    "with open(os.path.join(args.save_dir, 'cmd_input.txt'), 'a') as f:\n",
    "    f.write(cmd_input)\n",
    "    f.write(\"\\n\")\n",
    "print('Command line input: ' + cmd_input + ' is saved.')"
   ]
  },
  {
   "cell_type": "code",
   "execution_count": 89,
   "id": "b0952c8a-5880-48c8-a6b0-76fa1226074e",
   "metadata": {},
   "outputs": [
    {
     "data": {
      "text/plain": [
       "{'data_name': 'rotten',\n",
       " 'testing': True,\n",
       " 'device': 0,\n",
       " 'seed': 1234,\n",
       " 'data_test_ratio': 0.1,\n",
       " 'num_workers': 8,\n",
       " 'data_valid_ratio': 0.2,\n",
       " 'train_log_interval': 200,\n",
       " 'valid_log_interval': 10,\n",
       " 'save_appendix': 'debug',\n",
       " 'hop': 1,\n",
       " 'sample_ratio': 1.0,\n",
       " 'max_nodes_per_hop': 100,\n",
       " 'edge_dropout': 0.2,\n",
       " 'force_undirected': False,\n",
       " 'train_lr': 0.001,\n",
       " 'train_min_lr': 1e-06,\n",
       " 'train_lr_decay_factor': 0.1,\n",
       " 'train_lr_decay_step': 50,\n",
       " 'train_epochs': 5,\n",
       " 'batch_size': 32,\n",
       " 'arr_lambda': 0.001,\n",
       " 'num_rgcn_bases': 4,\n",
       " 'save_dir': 'C:\\\\Users\\\\user\\\\Jupyter_project\\\\keejun\\\\IGMC_CX\\\\log/rotten_debug_testmode_2111131905'}"
      ]
     },
     "execution_count": 89,
     "metadata": {},
     "output_type": "execute_result"
    }
   ],
   "source": [
    "args"
   ]
  },
  {
   "cell_type": "code",
   "execution_count": 90,
   "id": "b0e5af39-9646-43f8-87d2-8d9c498b7d72",
   "metadata": {},
   "outputs": [],
   "source": [
    "random.seed(args.seed)\n",
    "np.random.seed(args.seed)\n",
    "th.manual_seed(args.seed)\n",
    "if th.cuda.is_available():\n",
    "    th.cuda.manual_seed_all(args.seed)    "
   ]
  },
  {
   "cell_type": "code",
   "execution_count": 91,
   "id": "3522af7d-43ff-4eb3-85c2-8168f73dcfa7",
   "metadata": {
    "tags": []
   },
   "outputs": [],
   "source": [
    "# start_time = time.time()\n",
    "\n",
    "# train(args)\n",
    "\n",
    "# print(\"  Training epoch took: {:}\".format(format_time(time.time() - start_time)))"
   ]
  },
  {
   "cell_type": "markdown",
   "id": "9bcd9d7e-1617-4c32-a8bc-006d4a49ca35",
   "metadata": {},
   "source": [
    "## 2. Train"
   ]
  },
  {
   "cell_type": "code",
   "execution_count": 92,
   "id": "57c44d14-7115-4e81-9c99-99f370f93129",
   "metadata": {},
   "outputs": [
    {
     "name": "stdout",
     "output_type": "stream",
     "text": [
      "Create RottenTomato Class...\n",
      "\tTrain rating pairs : 216328\n",
      "\tValid rating pairs : 43266\n",
      "\tTest rating pairs  : 28766\n"
     ]
    }
   ],
   "source": [
    "### prepare data and set model\n",
    "path = './raw_data/rotten_tomato/'\n",
    "rotten_tomato = RottenTomato(path, testing=args.testing,test_ratio=args.data_test_ratio, valid_ratio=args.data_valid_ratio)"
   ]
  },
  {
   "cell_type": "code",
   "execution_count": 93,
   "id": "f3ff8769-41d9-4fe5-938f-51c370d372cd",
   "metadata": {},
   "outputs": [],
   "source": [
    "if args.testing:\n",
    "    test_dataset = RottenTomatoDataset(\n",
    "        rotten_tomato.test_rating_pairs, rotten_tomato.test_rating_values, rotten_tomato.train_graph, \n",
    "        args.hop, args.sample_ratio, args.max_nodes_per_hop) \n",
    "else:\n",
    "    test_dataset = RottenTomatoDataset(\n",
    "        rotten_tomato.valid_rating_pairs, rotten_tomato.valid_rating_values, rotten_tomato.train_graph, \n",
    "        args.hop, args.sample_ratio, args.max_nodes_per_hop)"
   ]
  },
  {
   "cell_type": "code",
   "execution_count": 94,
   "id": "b5e9ce45-2ab8-4a5a-bae3-17a9871aad04",
   "metadata": {},
   "outputs": [],
   "source": [
    "train_dataset = RottenTomatoDataset(\n",
    "    rotten_tomato.train_rating_pairs, rotten_tomato.train_rating_values, rotten_tomato.train_graph, \n",
    "    args.hop, args.sample_ratio, args.max_nodes_per_hop)"
   ]
  },
  {
   "cell_type": "code",
   "execution_count": 95,
   "id": "621bf1ca-2328-439c-bfe9-fd51f892552f",
   "metadata": {},
   "outputs": [],
   "source": [
    "train_loader = th.utils.data.DataLoader(train_dataset, batch_size=args.batch_size, shuffle=True, \n",
    "                        num_workers=args.num_workers, collate_fn=collate_rotten_tomato)\n",
    "test_loader = th.utils.data.DataLoader(test_dataset, batch_size=args.batch_size, shuffle=False, \n",
    "                        num_workers=args.num_workers, collate_fn=collate_rotten_tomato)"
   ]
  },
  {
   "cell_type": "code",
   "execution_count": 96,
   "id": "6c679b72-a7a2-4abb-9c4d-efdebf97dbc8",
   "metadata": {},
   "outputs": [
    {
     "name": "stdout",
     "output_type": "stream",
     "text": [
      "Loading network finished ...\n",
      "\n"
     ]
    }
   ],
   "source": [
    "in_feats = (args.hop+1)*2 #+ rotten_tomato.train_graph.ndata['refex'].shape[1]\n",
    "model = IGMC(in_feats=in_feats, \n",
    "             latent_dim=[32, 32, 32, 32],\n",
    "             num_relations=10, # rotten_tomato.num_rating, \n",
    "             num_bases=4, \n",
    "             regression=True, \n",
    "             edge_dropout=args.edge_dropout,\n",
    "            #  side_features=args.use_features,\n",
    "            #  n_side_features=n_features,\n",
    "            #  multiply_by=args.multiply_by\n",
    "        ).to(args.device)\n",
    "loss_fn = nn.MSELoss().to(args.device)\n",
    "optimizer = optim.Adam(model.parameters(), lr=args.train_lr, weight_decay=0)\n",
    "print(\"Loading network finished ...\\n\")"
   ]
  },
  {
   "cell_type": "code",
   "execution_count": 97,
   "id": "3569ea7d-b812-486f-8681-b08d1b9b382a",
   "metadata": {},
   "outputs": [
    {
     "name": "stdout",
     "output_type": "stream",
     "text": [
      "Start training ...\n"
     ]
    }
   ],
   "source": [
    "### prepare the logger\n",
    "logger = MetricLogger(args.save_dir, args.valid_log_interval)\n",
    "\n",
    "best_epoch = 0\n",
    "best_rmse = np.inf\n",
    "### declare the loss information\n",
    "print(\"Start training ...\")"
   ]
  },
  {
   "cell_type": "code",
   "execution_count": 98,
   "id": "67b4b350-a659-41eb-8f85-4baf5495fc5e",
   "metadata": {},
   "outputs": [
    {
     "name": "stdout",
     "output_type": "stream",
     "text": [
      "Epoch 1\n",
      "Iter=200, loss=4.6878, mse=4.6826, time=0.0423\n",
      "Iter=400, loss=3.1012, mse=3.0963, time=0.0414\n",
      "Iter=600, loss=2.9967, mse=2.9920, time=0.0421\n",
      "Iter=800, loss=3.1726, mse=3.1681, time=0.0428\n",
      "Iter=1000, loss=3.1550, mse=3.1507, time=0.0432\n",
      "Iter=1200, loss=2.9857, mse=2.9815, time=0.0434\n",
      "Iter=1400, loss=2.8858, mse=2.8818, time=0.0437\n",
      "Iter=1600, loss=2.9334, mse=2.9296, time=0.0436\n",
      "Iter=1800, loss=2.9084, mse=2.9049, time=0.0436\n",
      "Iter=2000, loss=3.0356, mse=3.0322, time=0.0437\n",
      "Iter=2200, loss=2.9112, mse=2.9078, time=0.0440\n",
      "Iter=2400, loss=2.9881, mse=2.9850, time=0.0444\n",
      "Iter=2600, loss=2.9258, mse=2.9228, time=0.0442\n",
      "Iter=2800, loss=2.9469, mse=2.9440, time=0.0442\n",
      "Iter=3000, loss=2.9679, mse=2.9652, time=0.0443\n",
      "Iter=3200, loss=2.7732, mse=2.7705, time=0.0442\n",
      "Iter=3400, loss=2.8574, mse=2.8547, time=0.0444\n",
      "Iter=3600, loss=2.9217, mse=2.9191, time=0.0454\n",
      "Iter=3800, loss=2.8487, mse=2.8461, time=0.0458\n",
      "Iter=4000, loss=2.9135, mse=2.9110, time=0.0457\n",
      "Iter=4200, loss=2.8737, mse=2.8712, time=0.0457\n",
      "Iter=4400, loss=2.8835, mse=2.8811, time=0.0458\n",
      "Iter=4600, loss=2.7809, mse=2.7784, time=0.0457\n",
      "Iter=4800, loss=2.8279, mse=2.8254, time=0.0458\n",
      "Iter=5000, loss=2.8481, mse=2.8458, time=0.0460\n",
      "Iter=5200, loss=2.6940, mse=2.6916, time=0.0461\n",
      "Iter=5400, loss=2.8575, mse=2.8551, time=0.0461\n",
      "Iter=5600, loss=2.7988, mse=2.7962, time=0.0460\n",
      "Iter=5800, loss=2.8084, mse=2.8059, time=0.0460\n",
      "Iter=6000, loss=2.8824, mse=2.8800, time=0.0459\n",
      "Iter=6200, loss=2.7998, mse=2.7973, time=0.0459\n",
      "Iter=6400, loss=2.7124, mse=2.7097, time=0.0461\n",
      "Iter=6600, loss=2.7051, mse=2.7025, time=0.0461\n",
      "=== Epoch 1, train loss 2.946953, test rmse 0.832412 ===\n",
      "Epoch 2\n",
      "Iter=200, loss=2.9232, mse=2.9206, time=0.0473\n",
      "Iter=400, loss=2.8500, mse=2.8475, time=0.0478\n",
      "Iter=600, loss=2.7238, mse=2.7213, time=0.0472\n",
      "Iter=800, loss=2.6624, mse=2.6598, time=0.0473\n",
      "Iter=1000, loss=2.8322, mse=2.8294, time=0.0478\n",
      "Iter=1200, loss=2.7711, mse=2.7683, time=0.0477\n",
      "Iter=1400, loss=2.6795, mse=2.6765, time=0.0479\n",
      "Iter=1600, loss=2.7362, mse=2.7331, time=0.0483\n",
      "Iter=1800, loss=2.6614, mse=2.6583, time=0.0477\n",
      "Iter=2000, loss=2.6732, mse=2.6703, time=0.0473\n",
      "Iter=2200, loss=2.7212, mse=2.7180, time=0.0471\n",
      "Iter=2400, loss=2.7035, mse=2.7004, time=0.0472\n",
      "Iter=2600, loss=2.6881, mse=2.6849, time=0.0469\n",
      "Iter=2800, loss=2.6671, mse=2.6639, time=0.0466\n",
      "Iter=3000, loss=2.6132, mse=2.6101, time=0.0467\n",
      "Iter=3200, loss=2.7381, mse=2.7347, time=0.0465\n",
      "Iter=3400, loss=2.7453, mse=2.7417, time=0.0468\n",
      "Iter=3600, loss=2.6910, mse=2.6875, time=0.0471\n",
      "Iter=3800, loss=2.6560, mse=2.6523, time=0.0469\n",
      "Iter=4000, loss=2.6446, mse=2.6407, time=0.0467\n",
      "Iter=4200, loss=2.5550, mse=2.5513, time=0.0467\n",
      "Iter=4400, loss=2.6940, mse=2.6903, time=0.0465\n",
      "Iter=4600, loss=2.6697, mse=2.6661, time=0.0464\n",
      "Iter=4800, loss=2.6639, mse=2.6602, time=0.0462\n",
      "Iter=5000, loss=2.6545, mse=2.6508, time=0.0461\n",
      "Iter=5200, loss=2.7110, mse=2.7071, time=0.0460\n",
      "Iter=5400, loss=2.6130, mse=2.6090, time=0.0459\n",
      "Iter=5600, loss=2.5626, mse=2.5587, time=0.0457\n",
      "Iter=5800, loss=2.5596, mse=2.5557, time=0.0456\n",
      "Iter=6000, loss=2.6494, mse=2.6454, time=0.0455\n",
      "Iter=6200, loss=2.6544, mse=2.6502, time=0.0455\n",
      "Iter=6400, loss=2.5718, mse=2.5675, time=0.0455\n",
      "Iter=6600, loss=2.7035, mse=2.6992, time=0.0455\n",
      "=== Epoch 2, train loss 2.684801, test rmse 0.804960 ===\n",
      "Epoch 3\n",
      "Iter=200, loss=2.5647, mse=2.5604, time=0.0450\n",
      "Iter=400, loss=2.6586, mse=2.6542, time=0.0436\n",
      "Iter=600, loss=2.6962, mse=2.6917, time=0.0454\n",
      "Iter=800, loss=2.6398, mse=2.6354, time=0.0461\n",
      "Iter=1000, loss=2.5608, mse=2.5563, time=0.0457\n",
      "Iter=1200, loss=2.6848, mse=2.6804, time=0.0452\n",
      "Iter=1400, loss=2.5829, mse=2.5784, time=0.0453\n",
      "Iter=1600, loss=2.6165, mse=2.6118, time=0.0455\n",
      "Iter=1800, loss=2.5956, mse=2.5907, time=0.0454\n",
      "Iter=2000, loss=2.5545, mse=2.5496, time=0.0452\n",
      "Iter=2200, loss=2.5241, mse=2.5193, time=0.0452\n",
      "Iter=2400, loss=2.4996, mse=2.4947, time=0.0452\n",
      "Iter=2600, loss=2.5638, mse=2.5590, time=0.0453\n",
      "Iter=2800, loss=2.6301, mse=2.6253, time=0.0452\n",
      "Iter=3000, loss=2.4971, mse=2.4923, time=0.0454\n",
      "Iter=3200, loss=2.5830, mse=2.5779, time=0.0459\n",
      "Iter=3400, loss=2.5454, mse=2.5404, time=0.0461\n",
      "Iter=3600, loss=2.5648, mse=2.5601, time=0.0462\n",
      "Iter=3800, loss=2.6389, mse=2.6343, time=0.0463\n",
      "Iter=4000, loss=2.5187, mse=2.5137, time=0.0464\n",
      "Iter=4200, loss=2.5489, mse=2.5440, time=0.0463\n",
      "Iter=4400, loss=2.5047, mse=2.5000, time=0.0462\n",
      "Iter=4600, loss=2.5697, mse=2.5649, time=0.0461\n",
      "Iter=4800, loss=2.5144, mse=2.5095, time=0.0461\n",
      "Iter=5000, loss=2.5781, mse=2.5731, time=0.0461\n",
      "Iter=5200, loss=2.5324, mse=2.5276, time=0.0460\n",
      "Iter=5400, loss=2.5521, mse=2.5474, time=0.0459\n",
      "Iter=5600, loss=2.5966, mse=2.5920, time=0.0460\n",
      "Iter=5800, loss=2.4977, mse=2.4931, time=0.0464\n",
      "Iter=6000, loss=2.5392, mse=2.5347, time=0.0464\n",
      "Iter=6200, loss=2.5334, mse=2.5288, time=0.0463\n",
      "Iter=6400, loss=2.5406, mse=2.5361, time=0.0463\n",
      "Iter=6600, loss=2.4915, mse=2.4870, time=0.0463\n",
      "=== Epoch 3, train loss 2.566190, test rmse 0.815455 ===\n",
      "Epoch 4\n",
      "Iter=200, loss=2.4960, mse=2.4912, time=0.0442\n",
      "Iter=400, loss=2.6093, mse=2.6044, time=0.0461\n",
      "Iter=600, loss=2.5032, mse=2.4983, time=0.0464\n",
      "Iter=800, loss=2.4148, mse=2.4099, time=0.0459\n",
      "Iter=1000, loss=2.4390, mse=2.4339, time=0.0454\n",
      "Iter=1200, loss=2.5907, mse=2.5855, time=0.0460\n",
      "Iter=1400, loss=2.4679, mse=2.4629, time=0.0456\n",
      "Iter=1600, loss=2.6331, mse=2.6280, time=0.0451\n",
      "Iter=1800, loss=2.4149, mse=2.4098, time=0.0452\n",
      "Iter=2000, loss=2.5224, mse=2.5172, time=0.0455\n",
      "Iter=2200, loss=2.4772, mse=2.4718, time=0.0453\n",
      "Iter=2400, loss=2.4981, mse=2.4926, time=0.0453\n",
      "Iter=2600, loss=2.5509, mse=2.5456, time=0.0452\n",
      "Iter=2800, loss=2.5446, mse=2.5391, time=0.0452\n",
      "Iter=3000, loss=2.4939, mse=2.4882, time=0.0454\n",
      "Iter=3200, loss=2.5788, mse=2.5732, time=0.0458\n",
      "Iter=3400, loss=2.5570, mse=2.5514, time=0.0459\n",
      "Iter=3600, loss=2.4987, mse=2.4932, time=0.0459\n",
      "Iter=3800, loss=2.5513, mse=2.5459, time=0.0460\n",
      "Iter=4000, loss=2.4745, mse=2.4690, time=0.0460\n",
      "Iter=4200, loss=2.5328, mse=2.5268, time=0.0461\n",
      "Iter=4400, loss=2.4797, mse=2.4738, time=0.0462\n",
      "Iter=4600, loss=2.5470, mse=2.5411, time=0.0462\n",
      "Iter=4800, loss=2.5879, mse=2.5821, time=0.0462\n",
      "Iter=5000, loss=2.5864, mse=2.5808, time=0.0461\n",
      "Iter=5200, loss=2.4657, mse=2.4598, time=0.0463\n",
      "Iter=5400, loss=2.5496, mse=2.5439, time=0.0464\n",
      "Iter=5600, loss=2.5401, mse=2.5345, time=0.0464\n",
      "Iter=5800, loss=2.5413, mse=2.5356, time=0.0464\n",
      "Iter=6000, loss=2.4860, mse=2.4801, time=0.0464\n",
      "Iter=6200, loss=2.4582, mse=2.4523, time=0.0463\n",
      "Iter=6400, loss=2.5971, mse=2.5912, time=0.0463\n",
      "Iter=6600, loss=2.4717, mse=2.4661, time=0.0464\n",
      "=== Epoch 4, train loss 2.520542, test rmse 0.807524 ===\n",
      "Epoch 5\n",
      "Iter=200, loss=2.5199, mse=2.5144, time=0.0498\n",
      "Iter=400, loss=2.4824, mse=2.4770, time=0.0494\n",
      "Iter=600, loss=2.5280, mse=2.5226, time=0.0492\n",
      "Iter=800, loss=2.4967, mse=2.4913, time=0.0488\n",
      "Iter=1000, loss=2.4837, mse=2.4784, time=0.0486\n",
      "Iter=1200, loss=2.5681, mse=2.5628, time=0.0484\n",
      "Iter=1400, loss=2.5487, mse=2.5435, time=0.0481\n",
      "Iter=1600, loss=2.4866, mse=2.4815, time=0.0480\n",
      "Iter=1800, loss=2.5733, mse=2.5680, time=0.0475\n",
      "Iter=2000, loss=2.4488, mse=2.4434, time=0.0476\n",
      "Iter=2200, loss=2.5748, mse=2.5694, time=0.0471\n",
      "Iter=2400, loss=2.5468, mse=2.5413, time=0.0467\n",
      "Iter=2600, loss=2.4715, mse=2.4659, time=0.0463\n",
      "Iter=2800, loss=2.4695, mse=2.4639, time=0.0461\n",
      "Iter=3000, loss=2.4855, mse=2.4802, time=0.0458\n",
      "Iter=3200, loss=2.4308, mse=2.4255, time=0.0455\n",
      "Iter=3400, loss=2.4369, mse=2.4315, time=0.0453\n",
      "Iter=3600, loss=2.4798, mse=2.4742, time=0.0451\n",
      "Iter=3800, loss=2.4549, mse=2.4495, time=0.0450\n",
      "Iter=4000, loss=2.4806, mse=2.4752, time=0.0449\n",
      "Iter=4200, loss=2.4950, mse=2.4894, time=0.0448\n",
      "Iter=4400, loss=2.4368, mse=2.4311, time=0.0447\n",
      "Iter=4600, loss=2.5064, mse=2.5007, time=0.0446\n",
      "Iter=4800, loss=2.5233, mse=2.5175, time=0.0445\n",
      "Iter=5000, loss=2.5275, mse=2.5217, time=0.0444\n",
      "Iter=5200, loss=2.4384, mse=2.4325, time=0.0443\n",
      "Iter=5400, loss=2.5095, mse=2.5037, time=0.0442\n",
      "Iter=5600, loss=2.4550, mse=2.4490, time=0.0441\n",
      "Iter=5800, loss=2.5619, mse=2.5559, time=0.0440\n",
      "Iter=6000, loss=2.4961, mse=2.4902, time=0.0439\n",
      "Iter=6200, loss=2.4826, mse=2.4769, time=0.0438\n",
      "Iter=6400, loss=2.4188, mse=2.4132, time=0.0438\n",
      "Iter=6600, loss=2.4765, mse=2.4707, time=0.0437\n",
      "=== Epoch 5, train loss 2.494794, test rmse 0.810590 ===\n",
      "  Training epoch took: 0:29:57\n"
     ]
    }
   ],
   "source": [
    "start_time = time.time()\n",
    "\n",
    "for epoch_idx in range(1, args.train_epochs+1):\n",
    "    print ('Epoch', epoch_idx)\n",
    "\n",
    "    train_loss = train_epoch(model, loss_fn, optimizer, args.arr_lambda, \n",
    "                            train_loader, args.device, args.train_log_interval)\n",
    "    test_rmse = evaluate(model, test_loader, args.device)\n",
    "    eval_info = {\n",
    "        'epoch': epoch_idx,\n",
    "        'train_loss': train_loss,\n",
    "        'test_rmse': test_rmse,\n",
    "    }\n",
    "    print('=== Epoch {}, train loss {:.6f}, test rmse {:.6f} ==='.format(*eval_info.values()))\n",
    "\n",
    "    if epoch_idx % args.train_lr_decay_step == 0:\n",
    "        for param in optimizer.param_groups:\n",
    "            param['lr'] = args.train_lr_decay_factor * param['lr']\n",
    "\n",
    "    logger.log(eval_info, model, optimizer)\n",
    "    if best_rmse > test_rmse:\n",
    "        best_rmse = test_rmse\n",
    "        best_epoch = epoch_idx\n",
    "\n",
    "print(\"  Training epoch took: {:}\".format(format_time(time.time() - start_time)))"
   ]
  },
  {
   "cell_type": "code",
   "execution_count": 99,
   "id": "646f6c55-8dc5-4999-b2b0-70af13b2248d",
   "metadata": {},
   "outputs": [
    {
     "name": "stdout",
     "output_type": "stream",
     "text": [
      "Training ends. The best testing rmse is 0.804960 at epoch 2\n"
     ]
    }
   ],
   "source": [
    "eval_info = \"Training ends. The best testing rmse is {:.6f} at epoch {}\".format(best_rmse, best_epoch)\n",
    "print(eval_info)\n",
    "with open(os.path.join(args.save_dir, 'log.txt'), 'a') as f:\n",
    "    f.write(eval_info)"
   ]
  },
  {
   "cell_type": "markdown",
   "id": "66acc35c-e77b-4764-bdb3-47977a789154",
   "metadata": {},
   "source": [
    "- IGMC의 users, items 확인하기"
   ]
  },
  {
   "cell_type": "code",
   "execution_count": 25,
   "id": "919e8a82-6b5d-472d-a679-e85e57fc7ab2",
   "metadata": {},
   "outputs": [
    {
     "data": {
      "text/plain": [
       "Graph(num_nodes=2654, num_edges=25262,\n",
       "      ndata_schemes={'_ID': Scheme(shape=(), dtype=torch.int64), 'nlabel': Scheme(shape=(4,), dtype=torch.float32), 'x': Scheme(shape=(4,), dtype=torch.float32)}\n",
       "      edata_schemes={'etype': Scheme(shape=(), dtype=torch.int64), '_ID': Scheme(shape=(), dtype=torch.int64), 'edge_mask': Scheme(shape=(), dtype=torch.float32)})"
      ]
     },
     "execution_count": 25,
     "metadata": {},
     "output_type": "execute_result"
    }
   ],
   "source": [
    "model.block"
   ]
  },
  {
   "cell_type": "code",
   "execution_count": 26,
   "id": "9b673cd3-2dca-471d-b361-5e0106ebd0db",
   "metadata": {
    "tags": []
   },
   "outputs": [
    {
     "data": {
      "text/plain": [
       "{'_ID': tensor([ 247,  169,  337,  ..., 9177, 9182, 9497], device='cuda:0'), 'nlabel': tensor([[1., 0., 0., 0.],\n",
       "        [0., 0., 1., 0.],\n",
       "        [0., 0., 1., 0.],\n",
       "        ...,\n",
       "        [0., 0., 0., 1.],\n",
       "        [0., 0., 0., 1.],\n",
       "        [0., 0., 0., 1.]], device='cuda:0'), 'x': tensor([[1., 0., 0., 0.],\n",
       "        [0., 0., 1., 0.],\n",
       "        [0., 0., 1., 0.],\n",
       "        ...,\n",
       "        [0., 0., 0., 1.],\n",
       "        [0., 0., 0., 1.],\n",
       "        [0., 0., 0., 1.]], device='cuda:0')}"
      ]
     },
     "execution_count": 26,
     "metadata": {},
     "output_type": "execute_result"
    }
   ],
   "source": [
    "model.block.ndata"
   ]
  },
  {
   "cell_type": "code",
   "execution_count": 27,
   "id": "26b28325-786e-4eb1-ac32-24bfae6bb78c",
   "metadata": {},
   "outputs": [
    {
     "data": {
      "text/plain": [
       "tensor([[1., 0., 0., 0.],\n",
       "        [0., 0., 1., 0.],\n",
       "        [0., 0., 1., 0.],\n",
       "        ...,\n",
       "        [0., 0., 0., 1.],\n",
       "        [0., 0., 0., 1.],\n",
       "        [0., 0., 0., 1.]], device='cuda:0')"
      ]
     },
     "execution_count": 27,
     "metadata": {},
     "output_type": "execute_result"
    }
   ],
   "source": [
    "model.block.ndata['x']"
   ]
  },
  {
   "cell_type": "code",
   "execution_count": 28,
   "id": "2e5ecab8-943f-455e-aaf0-35ca5e3eb057",
   "metadata": {
    "tags": []
   },
   "outputs": [
    {
     "data": {
      "text/plain": [
       "tensor([[1., 0., 0., 0.],\n",
       "        [0., 0., 1., 0.],\n",
       "        [0., 0., 1., 0.],\n",
       "        ...,\n",
       "        [0., 0., 0., 1.],\n",
       "        [0., 0., 0., 1.],\n",
       "        [0., 0., 0., 1.]], device='cuda:0')"
      ]
     },
     "execution_count": 28,
     "metadata": {},
     "output_type": "execute_result"
    }
   ],
   "source": [
    "model.block.ndata['nlabel']"
   ]
  },
  {
   "cell_type": "code",
   "execution_count": 29,
   "id": "7d8a6255-f09c-4c0f-ae0c-76b87f5b5670",
   "metadata": {},
   "outputs": [
    {
     "data": {
      "text/plain": [
       "torch.Size([2654, 4])"
      ]
     },
     "execution_count": 29,
     "metadata": {},
     "output_type": "execute_result"
    }
   ],
   "source": [
    "model.block.ndata['nlabel'].shape"
   ]
  },
  {
   "cell_type": "code",
   "execution_count": 30,
   "id": "209864b6-e545-446e-b566-391921f47b04",
   "metadata": {
    "tags": []
   },
   "outputs": [
    {
     "data": {
      "text/plain": [
       "tensor([1., 0., 0.,  ..., 0., 0., 0.], device='cuda:0')"
      ]
     },
     "execution_count": 30,
     "metadata": {},
     "output_type": "execute_result"
    }
   ],
   "source": [
    "model.block.ndata['nlabel'][:, 0]"
   ]
  },
  {
   "cell_type": "code",
   "execution_count": 31,
   "id": "20e81e3a-81b3-4e30-a7a2-ecffbbafb7dc",
   "metadata": {},
   "outputs": [
    {
     "data": {
      "text/plain": [
       "tensor([[-1.0000, -1.0000,  1.0000,  ..., -1.0000, -1.0000,  1.0000],\n",
       "        [-0.9996, -1.0000,  1.0000,  ..., -0.9994, -0.9998,  0.9969],\n",
       "        [-0.9911, -0.9853,  0.7839,  ..., -0.9915, -0.9761,  0.2078],\n",
       "        ...,\n",
       "        [-0.9998, -0.7304,  0.9367,  ..., -0.9985, -0.0034,  0.9997],\n",
       "        [-0.9998, -0.8659,  0.9912,  ..., -0.9969, -0.2373,  0.9999],\n",
       "        [-0.9995, -0.9325, -0.9580,  ..., -0.9998, -0.8721, -0.6978]],\n",
       "       device='cuda:0')"
      ]
     },
     "execution_count": 31,
     "metadata": {},
     "output_type": "execute_result"
    }
   ],
   "source": [
    "model.block_x"
   ]
  },
  {
   "cell_type": "code",
   "execution_count": 32,
   "id": "5cc2c37e-a755-4cba-8050-0e3e0408d602",
   "metadata": {},
   "outputs": [
    {
     "data": {
      "text/plain": [
       "tensor([ True, False, False,  ..., False, False, False], device='cuda:0')"
      ]
     },
     "execution_count": 32,
     "metadata": {},
     "output_type": "execute_result"
    }
   ],
   "source": [
    "model.users"
   ]
  },
  {
   "cell_type": "code",
   "execution_count": 33,
   "id": "eac9276d-09af-4230-93a4-28fe437b04e2",
   "metadata": {},
   "outputs": [
    {
     "data": {
      "text/plain": [
       "torch.Size([2654])"
      ]
     },
     "execution_count": 33,
     "metadata": {},
     "output_type": "execute_result"
    }
   ],
   "source": [
    "model.users.shape"
   ]
  },
  {
   "cell_type": "code",
   "execution_count": 34,
   "id": "d3d26473-4f82-4488-9d27-35678e86770a",
   "metadata": {},
   "outputs": [
    {
     "data": {
      "text/plain": [
       "torch.Size([2654])"
      ]
     },
     "execution_count": 34,
     "metadata": {},
     "output_type": "execute_result"
    }
   ],
   "source": [
    "model.items.shape"
   ]
  },
  {
   "cell_type": "code",
   "execution_count": 35,
   "id": "1bb98d62-2a20-4a65-a020-3fd17b8884ae",
   "metadata": {},
   "outputs": [
    {
     "data": {
      "text/plain": [
       "torch.Size([2654, 128])"
      ]
     },
     "execution_count": 35,
     "metadata": {},
     "output_type": "execute_result"
    }
   ],
   "source": [
    "model.concat_states.shape"
   ]
  },
  {
   "cell_type": "code",
   "execution_count": 36,
   "id": "ce6db82a-6550-4093-b637-bbd670ba4c55",
   "metadata": {},
   "outputs": [
    {
     "data": {
      "text/plain": [
       "tensor([[ 0.1139, -0.2489,  0.8683,  ..., -1.0000, -1.0000,  1.0000],\n",
       "        [-0.0636,  0.2562,  0.3722,  ..., -0.9994, -0.9998,  0.9969],\n",
       "        [-0.1214,  0.3484,  0.3754,  ..., -0.9915, -0.9761,  0.2078],\n",
       "        ...,\n",
       "        [-0.0840,  0.0495,  0.2329,  ..., -0.9985, -0.0034,  0.9997],\n",
       "        [-0.1129, -0.1401,  0.2771,  ..., -0.9969, -0.2373,  0.9999],\n",
       "        [-0.0653, -0.0418,  0.3392,  ..., -0.9998, -0.8721, -0.6978]],\n",
       "       device='cuda:0')"
      ]
     },
     "execution_count": 36,
     "metadata": {},
     "output_type": "execute_result"
    }
   ],
   "source": [
    "model.concat_states"
   ]
  },
  {
   "cell_type": "code",
   "execution_count": 37,
   "id": "3532cf35-110f-4746-a77a-dfc08acd2786",
   "metadata": {
    "tags": []
   },
   "outputs": [
    {
     "data": {
      "text/plain": [
       "tensor([[ 0.1139, -0.2489,  0.8683,  ..., -1.0000, -1.0000,  1.0000],\n",
       "        [-0.1391,  0.3786,  0.4333,  ..., -0.9854, -0.9918,  0.8105],\n",
       "        [ 0.1877, -0.6180,  0.8853,  ..., -1.0000, -1.0000,  1.0000],\n",
       "        ...,\n",
       "        [-0.3070,  0.2917,  0.6954,  ..., -1.0000, -1.0000,  1.0000],\n",
       "        [-0.3070,  0.2917,  0.6954,  ..., -1.0000, -1.0000,  1.0000],\n",
       "        [-0.0816,  0.4657,  0.5205,  ..., -1.0000, -1.0000,  1.0000]],\n",
       "       device='cuda:0')"
      ]
     },
     "execution_count": 37,
     "metadata": {},
     "output_type": "execute_result"
    }
   ],
   "source": [
    "model.concat_states[model.users]"
   ]
  },
  {
   "cell_type": "code",
   "execution_count": 38,
   "id": "3f1a4405-6171-465e-ab4a-358eac28cdf9",
   "metadata": {},
   "outputs": [
    {
     "data": {
      "text/plain": [
       "torch.Size([30, 128])"
      ]
     },
     "execution_count": 38,
     "metadata": {},
     "output_type": "execute_result"
    }
   ],
   "source": [
    "model.concat_states[model.users].shape"
   ]
  },
  {
   "cell_type": "code",
   "execution_count": 39,
   "id": "2ddfd412-4dbd-4821-b9e4-6e4e82c04f8e",
   "metadata": {},
   "outputs": [
    {
     "data": {
      "text/plain": [
       "torch.Size([30, 128])"
      ]
     },
     "execution_count": 39,
     "metadata": {},
     "output_type": "execute_result"
    }
   ],
   "source": [
    "model.concat_states[model.items].shape"
   ]
  },
  {
   "cell_type": "code",
   "execution_count": 40,
   "id": "c604fefa-8687-4f37-b9ad-3d5c5e5431a4",
   "metadata": {},
   "outputs": [],
   "source": [
    "concat = th.cat([model.concat_states[model.users], model.concat_states[model.items]], 1)"
   ]
  },
  {
   "cell_type": "code",
   "execution_count": 41,
   "id": "039cd241-2c02-4ae3-9489-1165498a5a29",
   "metadata": {},
   "outputs": [
    {
     "data": {
      "text/plain": [
       "torch.Size([30, 256])"
      ]
     },
     "execution_count": 41,
     "metadata": {},
     "output_type": "execute_result"
    }
   ],
   "source": [
    "# user, item vector들을 합침\n",
    "concat.shape"
   ]
  },
  {
   "cell_type": "code",
   "execution_count": null,
   "id": "03faa981-c0e4-438c-846b-bdd142d583ed",
   "metadata": {},
   "outputs": [],
   "source": []
  },
  {
   "cell_type": "markdown",
   "id": "9c728cd9-f005-491f-84dc-d63650c2700a",
   "metadata": {},
   "source": [
    "### Train_epoch 함수 테스트"
   ]
  },
  {
   "cell_type": "code",
   "execution_count": 42,
   "id": "f4bec73f-8cab-45aa-a3cb-beccdda9bd2c",
   "metadata": {},
   "outputs": [],
   "source": [
    "model = model\n",
    "loss_fn = loss_fn\n",
    "optimizer = optimizer\n",
    "arr_lambda = args.arr_lambda\n",
    "loader = train_loader\n",
    "device = args.device\n",
    "log_interval = args.train_log_interval"
   ]
  },
  {
   "cell_type": "code",
   "execution_count": 24,
   "id": "df6fd326-b5dc-4acd-8832-9aae253d90a0",
   "metadata": {},
   "outputs": [
    {
     "data": {
      "text/plain": [
       "200"
      ]
     },
     "execution_count": 24,
     "metadata": {},
     "output_type": "execute_result"
    }
   ],
   "source": [
    "log_interval"
   ]
  },
  {
   "cell_type": "code",
   "execution_count": 25,
   "id": "b454620b-9795-4b72-b151-73be1461b119",
   "metadata": {
    "tags": []
   },
   "outputs": [
    {
     "name": "stdout",
     "output_type": "stream",
     "text": [
      "Iter=200, loss=2.8242, mse=2.8212, time=0.0387\n",
      "Iter=400, loss=2.8218, mse=2.8187, time=0.0394\n",
      "Iter=600, loss=2.8402, mse=2.8370, time=0.0385\n",
      "Iter=800, loss=2.7299, mse=2.7267, time=0.0385\n",
      "Iter=1000, loss=2.7731, mse=2.7698, time=0.0384\n",
      "Iter=1200, loss=2.6972, mse=2.6941, time=0.0384\n",
      "Iter=1400, loss=2.6883, mse=2.6853, time=0.0382\n",
      "Iter=1600, loss=2.8233, mse=2.8202, time=0.0381\n",
      "Iter=1800, loss=2.6687, mse=2.6657, time=0.0384\n",
      "Iter=2000, loss=2.6620, mse=2.6590, time=0.0386\n",
      "Iter=2200, loss=2.7521, mse=2.7491, time=0.0387\n",
      "Iter=2400, loss=2.6550, mse=2.6518, time=0.0385\n",
      "Iter=2600, loss=2.5922, mse=2.5890, time=0.0386\n",
      "Iter=2800, loss=2.7456, mse=2.7424, time=0.0388\n",
      "Iter=3000, loss=2.7262, mse=2.7228, time=0.0396\n",
      "Iter=3200, loss=2.7200, mse=2.7165, time=0.0403\n",
      "Iter=3400, loss=2.7538, mse=2.7502, time=0.0402\n",
      "Iter=3600, loss=2.6883, mse=2.6845, time=0.0400\n",
      "  Time took: 0:02:40\n"
     ]
    }
   ],
   "source": [
    "start_time = time.time()\n",
    "\n",
    "model.train()\n",
    "\n",
    "epoch_loss = 0.\n",
    "iter_loss = 0.\n",
    "iter_mse = 0.\n",
    "iter_cnt = 0\n",
    "iter_dur = []\n",
    "\n",
    "# 서브그래프 단위로 학습\n",
    "for iter_idx, batch in enumerate(loader, start=1):\n",
    "    t_start = time.time()\n",
    "\n",
    "    inputs = batch[0].to(device)\n",
    "    labels = batch[1].to(device)\n",
    "    preds = model(inputs)\n",
    "    loss = loss_fn(preds, labels).mean() + arr_lambda * adj_rating_reg(model)\n",
    "\n",
    "    optimizer.zero_grad()\n",
    "    loss.backward()\n",
    "    optimizer.step()\n",
    "\n",
    "    epoch_loss += loss.item() * preds.shape[0]\n",
    "    iter_loss += loss.item() * preds.shape[0]\n",
    "    iter_mse += ((preds - labels) ** 2).sum().item()\n",
    "    iter_cnt += preds.shape[0]\n",
    "    iter_dur.append(time.time() - t_start)\n",
    "\n",
    "    if iter_idx % log_interval == 0:\n",
    "        print(\"Iter={}, loss={:.4f}, mse={:.4f}, time={:.4f}\".format(\n",
    "            iter_idx, iter_loss/iter_cnt, iter_mse/iter_cnt, np.average(iter_dur)))\n",
    "        iter_loss = 0.\n",
    "        iter_mse = 0.\n",
    "        iter_cnt = 0\n",
    "\n",
    "train_epoch_loss = epoch_loss / len(loader.dataset)\n",
    "\n",
    "print(\"  Time took: {:}\".format(format_time(time.time() - start_time)))"
   ]
  },
  {
   "cell_type": "code",
   "execution_count": 26,
   "id": "3d54b44e-f603-4327-9a87-904041c70d96",
   "metadata": {},
   "outputs": [
    {
     "data": {
      "text/plain": [
       "Graph(num_nodes=4775, num_edges=125174,\n",
       "      ndata_schemes={'_ID': Scheme(shape=(), dtype=torch.int64), 'nlabel': Scheme(shape=(4,), dtype=torch.float32), 'x': Scheme(shape=(4,), dtype=torch.float32)}\n",
       "      edata_schemes={'etype': Scheme(shape=(), dtype=torch.int64), '_ID': Scheme(shape=(), dtype=torch.int64), 'edge_mask': Scheme(shape=(), dtype=torch.float32)})"
      ]
     },
     "execution_count": 26,
     "metadata": {},
     "output_type": "execute_result"
    }
   ],
   "source": [
    "inputs"
   ]
  },
  {
   "cell_type": "code",
   "execution_count": 27,
   "id": "992ba225-8165-40a2-8384-81b354d23b0a",
   "metadata": {},
   "outputs": [
    {
     "data": {
      "text/plain": [
       "tensor([7., 3., 5., 6., 8., 6., 7., 8., 5., 6., 5., 7., 7., 9., 9., 9., 5., 7.,\n",
       "        5., 7., 3., 8., 3., 3., 2., 6., 9., 5., 5., 7., 7., 5.],\n",
       "       device='cuda:0')"
      ]
     },
     "execution_count": 27,
     "metadata": {},
     "output_type": "execute_result"
    }
   ],
   "source": [
    "labels"
   ]
  },
  {
   "cell_type": "code",
   "execution_count": 28,
   "id": "41f4dcf4-1350-4831-9dc5-c356e1daf391",
   "metadata": {},
   "outputs": [
    {
     "data": {
      "text/plain": [
       "tensor(2.5001, device='cuda:0', grad_fn=<AddBackward0>)"
      ]
     },
     "execution_count": 28,
     "metadata": {},
     "output_type": "execute_result"
    }
   ],
   "source": [
    "loss"
   ]
  },
  {
   "cell_type": "code",
   "execution_count": 29,
   "id": "987146e4-6ad1-4339-b27f-851e94945000",
   "metadata": {},
   "outputs": [
    {
     "data": {
      "text/plain": [
       "32"
      ]
     },
     "execution_count": 29,
     "metadata": {},
     "output_type": "execute_result"
    }
   ],
   "source": [
    "preds.shape[0]"
   ]
  },
  {
   "cell_type": "code",
   "execution_count": 30,
   "id": "f305240a-7b5c-4100-8d58-5dab9f972c15",
   "metadata": {},
   "outputs": [
    {
     "data": {
      "text/plain": [
       "2.727407252259081"
      ]
     },
     "execution_count": 30,
     "metadata": {},
     "output_type": "execute_result"
    }
   ],
   "source": [
    "train_epoch_loss"
   ]
  },
  {
   "cell_type": "code",
   "execution_count": 31,
   "id": "613c9bbf-4877-49bd-9cb2-f5927bcd8038",
   "metadata": {},
   "outputs": [
    {
     "data": {
      "text/plain": [
       "tensor([7.0923, 5.4808, 6.1765, 8.1413, 7.6566, 4.6887, 6.3527, 6.4477, 6.0566,\n",
       "        5.4327, 5.4816, 7.4522, 5.6513, 8.6706, 5.8030, 7.2858, 4.5068, 8.8621,\n",
       "        3.4885, 7.3030, 3.4780, 6.1335, 2.9561, 4.1378, 5.3948, 6.8066, 5.6749,\n",
       "        5.6852, 4.4658, 7.3438, 9.4554, 7.2134], device='cuda:0',\n",
       "       grad_fn=<MulBackward0>)"
      ]
     },
     "execution_count": 31,
     "metadata": {},
     "output_type": "execute_result"
    }
   ],
   "source": [
    "preds"
   ]
  },
  {
   "cell_type": "code",
   "execution_count": null,
   "id": "198de4d4-9dc0-4184-84f4-1a40cc509972",
   "metadata": {},
   "outputs": [],
   "source": []
  },
  {
   "cell_type": "code",
   "execution_count": null,
   "id": "ed37162a-ee65-4af9-9cab-e4a795fc5099",
   "metadata": {},
   "outputs": [],
   "source": []
  },
  {
   "cell_type": "markdown",
   "id": "f4c6bc06-0a33-414c-a73b-e409bca5e421",
   "metadata": {},
   "source": [
    "### Evaluate 함수 테스트"
   ]
  },
  {
   "cell_type": "code",
   "execution_count": 43,
   "id": "bb2b26d9-25c4-4328-802b-068c674c8293",
   "metadata": {},
   "outputs": [],
   "source": [
    "model = model\n",
    "loader = test_loader\n",
    "device = args.device"
   ]
  },
  {
   "cell_type": "code",
   "execution_count": 63,
   "id": "47e1a54f-e56b-4650-a9c1-498ad5893824",
   "metadata": {},
   "outputs": [
    {
     "name": "stdout",
     "output_type": "stream",
     "text": [
      "  Time took: 0:00:27\n"
     ]
    }
   ],
   "source": [
    "start_time = time.time()\n",
    "predict_ratings = list()\n",
    "real_ratings = list()\n",
    "\n",
    "# Evaluate RMSE\n",
    "model.eval()\n",
    "mse = 0.\n",
    "for batch in loader:\n",
    "    with th.no_grad():\n",
    "        preds = (model(batch[0].to(device)) + 1)/ 2\n",
    "    labels = (batch[1].to(device) + 1)/ 2\n",
    "    mse += ((preds - labels) ** 2).sum().item()\n",
    "    \n",
    "    real_ratings.append(labels)\n",
    "    predict_ratings.append(preds)\n",
    "    \n",
    "mse /= len(loader.dataset)\n",
    "rmse = np.sqrt(mse)\n",
    "\n",
    "print(\"  Time took: {:}\".format(format_time(time.time() - start_time)))"
   ]
  },
  {
   "cell_type": "code",
   "execution_count": 64,
   "id": "a533c878-4f4f-4d70-b1ab-1f930ab636b5",
   "metadata": {},
   "outputs": [
    {
     "data": {
      "text/plain": [
       "tensor([2.9968, 3.1041, 2.8940, 3.9403, 4.1405, 3.1857, 3.4408, 4.0894, 2.6228,\n",
       "        3.2692, 2.8797, 2.1028, 2.8179, 3.5234, 3.3022, 4.0670, 4.0670, 2.9974,\n",
       "        2.1890, 2.4611, 1.2208, 2.3978, 3.7354, 2.5466, 3.1223, 3.4322, 2.1431,\n",
       "        2.5878, 2.5878, 3.6192], device='cuda:0')"
      ]
     },
     "execution_count": 64,
     "metadata": {},
     "output_type": "execute_result"
    }
   ],
   "source": [
    "preds"
   ]
  },
  {
   "cell_type": "code",
   "execution_count": 65,
   "id": "3292c796-c71b-4078-8fd9-a07f58be62b0",
   "metadata": {},
   "outputs": [
    {
     "data": {
      "text/plain": [
       "tensor([3.5000, 3.5000, 3.5000, 5.0000, 4.0000, 4.5000, 4.5000, 4.0000, 4.0000,\n",
       "        3.5000, 4.5000, 1.0000, 3.0000, 2.5000, 4.0000, 2.0000, 2.0000, 4.0000,\n",
       "        2.5000, 2.5000, 2.5000, 2.5000, 5.0000, 3.0000, 3.5000, 5.0000, 3.5000,\n",
       "        3.0000, 3.0000, 4.5000], device='cuda:0')"
      ]
     },
     "execution_count": 65,
     "metadata": {},
     "output_type": "execute_result"
    }
   ],
   "source": [
    "labels"
   ]
  },
  {
   "cell_type": "code",
   "execution_count": 66,
   "id": "54927b7e-515f-481e-b8ed-d746e8de230f",
   "metadata": {},
   "outputs": [
    {
     "data": {
      "text/plain": [
       "0.838736481576567"
      ]
     },
     "execution_count": 66,
     "metadata": {},
     "output_type": "execute_result"
    }
   ],
   "source": [
    "rmse"
   ]
  },
  {
   "cell_type": "code",
   "execution_count": 57,
   "id": "dca19d71-2874-4586-a7a6-5547ed60a2ca",
   "metadata": {
    "tags": []
   },
   "outputs": [
    {
     "data": {
      "text/plain": [
       "tensor([2.7650, 2.8793, 2.5193, 2.8136, 3.7364, 2.8414, 2.8343, 3.5618, 3.6456,\n",
       "        3.5358], device='cuda:0')"
      ]
     },
     "execution_count": 57,
     "metadata": {},
     "output_type": "execute_result"
    }
   ],
   "source": [
    "predict_ratings[0][:10]"
   ]
  },
  {
   "cell_type": "code",
   "execution_count": 58,
   "id": "a41bd92d-e324-4a86-9656-da4c8c516a4a",
   "metadata": {},
   "outputs": [
    {
     "data": {
      "text/plain": [
       "tensor([3.0000, 3.0000, 3.0000, 2.5000, 3.0000, 3.0000, 3.0000, 4.5000, 3.0000,\n",
       "        2.5000], device='cuda:0')"
      ]
     },
     "execution_count": 58,
     "metadata": {},
     "output_type": "execute_result"
    }
   ],
   "source": [
    "real_ratings[0][:10]"
   ]
  },
  {
   "cell_type": "code",
   "execution_count": null,
   "id": "2d6f0465-ef4c-424f-8a7d-1bd31800fc0c",
   "metadata": {},
   "outputs": [],
   "source": []
  },
  {
   "cell_type": "code",
   "execution_count": null,
   "id": "7ae685cc-df32-47d9-ab80-320e40749f11",
   "metadata": {},
   "outputs": [],
   "source": []
  },
  {
   "cell_type": "code",
   "execution_count": null,
   "id": "cda367ca-52b8-4455-87ec-c8cc7b71562b",
   "metadata": {},
   "outputs": [],
   "source": []
  }
 ],
 "metadata": {
  "kernelspec": {
   "display_name": "Python 3 (ipykernel)",
   "language": "python",
   "name": "python3"
  },
  "language_info": {
   "codemirror_mode": {
    "name": "ipython",
    "version": 3
   },
   "file_extension": ".py",
   "mimetype": "text/x-python",
   "name": "python",
   "nbconvert_exporter": "python",
   "pygments_lexer": "ipython3",
   "version": "3.8.11"
  }
 },
 "nbformat": 4,
 "nbformat_minor": 5
}
