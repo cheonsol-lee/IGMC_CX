{
 "cells": [
  {
   "cell_type": "code",
   "execution_count": 1,
   "id": "785be389-80d3-4240-9301-55437c426a71",
   "metadata": {},
   "outputs": [
    {
     "name": "stderr",
     "output_type": "stream",
     "text": [
      "Using backend: pytorch\n"
     ]
    }
   ],
   "source": [
    "import random\n",
    "from collections import namedtuple\n",
    "\n",
    "import numpy as np\n",
    "import torch as th\n",
    "import dgl\n",
    "\n",
    "from utils import subgraph_extraction_labeling"
   ]
  },
  {
   "cell_type": "code",
   "execution_count": 46,
   "id": "0ba937c8-38ce-400e-a995-1a3e62adf5eb",
   "metadata": {
    "tags": []
   },
   "outputs": [],
   "source": [
    "class RottenTomatoDataset(th.utils.data.Dataset):\n",
    "    def __init__(self, links, g_labels, graph, \n",
    "                hop=1, sample_ratio=1.0, max_nodes_per_hop=200):\n",
    "        self.links = links\n",
    "        self.g_labels = g_labels\n",
    "        self.graph = graph \n",
    "\n",
    "        self.hop = hop\n",
    "        self.sample_ratio = sample_ratio\n",
    "        self.max_nodes_per_hop = max_nodes_per_hop\n",
    "\n",
    "    def __len__(self):\n",
    "        return len(self.links[0])\n",
    "\n",
    "    # 배치 단위로 묶어서 출력함\n",
    "    def __getitem__(self, idx):\n",
    "        u, v = self.links[0][idx], self.links[1][idx]\n",
    "        g_label = self.g_labels[idx]\n",
    "\n",
    "        subgraph = subgraph_extraction_labeling(\n",
    "            (u, v), self.graph, \n",
    "            hop=self.hop, sample_ratio=self.sample_ratio, max_nodes_per_hop=self.max_nodes_per_hop)\n",
    "\n",
    "        return subgraph, g_label\n",
    "\n",
    "    # 배치 단위로\n",
    "def collate_rotten_tomato(data):\n",
    "    print(data[0])\n",
    "    g_list, label_list = map(list, zip(*data))\n",
    "    g = dgl.batch(g_list)\n",
    "    g_label = th.stack(label_list)\n",
    "    return g, g_label"
   ]
  },
  {
   "cell_type": "code",
   "execution_count": 176,
   "id": "1771cbc9-6e12-41c5-a2ae-a162de0af00e",
   "metadata": {},
   "outputs": [],
   "source": [
    "class MultiRottenTomatoDataset(th.utils.data.Dataset):\n",
    "    def __init__(self, links, g_labels, graph, \n",
    "                hop, sample_ratio, max_nodes_per_hop):\n",
    "        # 리스트로 입력받음\n",
    "        self.links = links\n",
    "        self.g_labels = g_labels\n",
    "        self.graph = graph \n",
    "\n",
    "        self.hop = hop\n",
    "        self.sample_ratio = sample_ratio\n",
    "        self.max_nodes_per_hop = max_nodes_per_hop\n",
    "\n",
    "    def __len__(self):\n",
    "        return len(self.links[0][0])\n",
    "\n",
    "    def __getitem__(self, idx):\n",
    "        # rating\n",
    "        u_r, v_r = self.links[0][0][idx], self.links[0][1][idx]\n",
    "        g_label_r = self.g_labels[0][idx]\n",
    "\n",
    "        subgraph_r = subgraph_extraction_labeling(\n",
    "            (u_r, v_r), self.graph[0], \n",
    "            hop=self.hop[0], sample_ratio=self.sample_ratio[0], max_nodes_per_hop=self.max_nodes_per_hop[0])\n",
    "        \n",
    "        # sentiment\n",
    "        u_s, v_s = self.links[1][0][idx], self.links[1][1][idx]\n",
    "        g_label_s = self.g_labels[1][idx]\n",
    "        \n",
    "        subgraph_s = subgraph_extraction_labeling(\n",
    "            (u_s, v_s), self.graph[1], \n",
    "            hop=self.hop[1], sample_ratio=self.sample_ratio[1], max_nodes_per_hop=self.max_nodes_per_hop[1])\n",
    "        \n",
    "        # emotion\n",
    "        u_e, v_e = self.links[2][0][idx], self.links[2][1][idx]\n",
    "        g_label_e = self.g_labels[2][idx]\n",
    "        \n",
    "        subgraph_e = subgraph_extraction_labeling(\n",
    "            (u_e, v_e), self.graph[2], \n",
    "            hop=self.hop[2], sample_ratio=self.sample_ratio[2], max_nodes_per_hop=self.max_nodes_per_hop[2])\n",
    "        \n",
    "        \n",
    "        # 통합\n",
    "        g_label = [g_label_r, g_label_s, g_label_e]\n",
    "        subgraph = [subgraph_r, subgraph_s, subgraph_e]\n",
    "\n",
    "        return subgraph, g_label\n",
    "\n",
    "# data : tuple 형태(subgraph, g_label)\n",
    "def multi_collate_rotten_tomato(data):\n",
    "    r_data    = list()\n",
    "    s_data = list()\n",
    "    e_data   = list()\n",
    "\n",
    "    # batch 샘플 순서\n",
    "    for i in range(len(data)):\n",
    "        r_data.append((data[i][0][0], data[i][1][0])) # rating\n",
    "        s_data.append((data[i][0][1], data[i][1][1])) # sentiment\n",
    "        e_data.append((data[i][0][2], data[i][1][2])) # emotion\n",
    "\n",
    "   # rating\n",
    "    g_list_r, label_list_r = map(list, zip(*r_data))\n",
    "    g_r = dgl.batch(g_list_r)\n",
    "    g_label_r = th.stack(label_list_r)\n",
    "    \n",
    "    # sentiment\n",
    "    g_list_s, label_list_s = map(list, zip(*s_data))\n",
    "    g_s = dgl.batch(g_list_s)\n",
    "    g_label_s = th.stack(label_list_s)\n",
    "    \n",
    "    # emotion\n",
    "    g_list_e, label_list_e = map(list, zip(*e_data))\n",
    "    g_e = dgl.batch(g_list_e)\n",
    "    g_label_e = th.stack(label_list_e)\n",
    "    \n",
    "    # 리스트로 출력\n",
    "    g = [g_r, g_s, g_e]\n",
    "    g_label = [g_label_r, g_label_s, g_label_e]\n",
    "    \n",
    "    return g, g_label"
   ]
  },
  {
   "cell_type": "markdown",
   "id": "e211d544-d13d-4ff8-86be-e005153b500e",
   "metadata": {
    "tags": []
   },
   "source": [
    "# 1. Main()"
   ]
  },
  {
   "cell_type": "code",
   "execution_count": 4,
   "id": "1dbde0cc-8f27-443a-8449-6972f6491baf",
   "metadata": {
    "tags": []
   },
   "outputs": [],
   "source": [
    "import easydict\n",
    "\n",
    "args = easydict.EasyDict({ \n",
    "    'data_name':            'rotten',\n",
    "    'testing':     \t        True,\n",
    "    'device':      \t        0,\n",
    "    'seed':        \t        1234,\n",
    "    'data_test_ratio':      0.1,\n",
    "    'num_workers':   \t    8,\n",
    "    'data_valid_ratio':     0.2,\n",
    "    'train_log_interval':   200,\n",
    "    'valid_log_interval':   10,\n",
    "    'save_appendix':   \t    'debug',\n",
    "    'hop':   \t            1,\n",
    "    'sample_ratio':    \t    1.0,\n",
    "    'max_nodes_per_hop':    100,\n",
    "    'edge_dropout':   \t    0.2,\n",
    "    'force_undirected':     False,\n",
    "    'train_lr':   \t        1e-3,\n",
    "    'train_min_lr':   \t    1e-6,\n",
    "    'train_lr_decay_factor':0.1,\n",
    "    'train_lr_decay_step':  50,\n",
    "    'train_epochs':   \t    10,\n",
    "    'batch_size':   \t    16,\n",
    "    'arr_lambda':   \t    0.001,\n",
    "    'num_rgcn_bases':   \t4,\n",
    "    'train_epochs':   \t    1\n",
    "})"
   ]
  },
  {
   "cell_type": "code",
   "execution_count": 5,
   "id": "4569235f-ea2a-438a-b4ff-6b2d159be20f",
   "metadata": {
    "tags": []
   },
   "outputs": [],
   "source": [
    "random.seed(args.seed)\n",
    "np.random.seed(args.seed)\n",
    "th.manual_seed(args.seed)\n",
    "if th.cuda.is_available():\n",
    "    th.cuda.manual_seed_all(args.seed)    "
   ]
  },
  {
   "cell_type": "code",
   "execution_count": 6,
   "id": "db778d75-95ed-45a3-b3d7-797a7a63798c",
   "metadata": {
    "collapsed": true,
    "jupyter": {
     "outputs_hidden": true
    },
    "tags": []
   },
   "outputs": [
    {
     "name": "stdout",
     "output_type": "stream",
     "text": [
      "Label_type: rating\n",
      "\tTrain rating pairs : 216328\n",
      "\tValid rating pairs : 43266\n",
      "\tTest rating pairs  : 28766\n",
      "Label_type: sentiment\n",
      "\tTrain rating pairs : 216328\n",
      "\tValid rating pairs : 43266\n",
      "\tTest rating pairs  : 28766\n",
      "Label_type: emotion\n",
      "\tTrain rating pairs : 216328\n",
      "\tValid rating pairs : 43266\n",
      "\tTest rating pairs  : 28766\n"
     ]
    }
   ],
   "source": [
    "import time\n",
    "from explicit_model_rotten import IGMC\n",
    "from explicit_data_rotten import RottenTomato\n",
    "\n",
    "### prepare data and set model\n",
    "path = './raw_data/rotten_tomato/'\n",
    "rotten_tomato_r = RottenTomato('rating',    path, testing=args.testing,test_ratio=args.data_test_ratio, valid_ratio=args.data_valid_ratio)\n",
    "rotten_tomato_s = RottenTomato('sentiment', path, testing=args.testing,test_ratio=args.data_test_ratio, valid_ratio=args.data_valid_ratio)\n",
    "rotten_tomato_e = RottenTomato('emotion',   path, testing=args.testing,test_ratio=args.data_test_ratio, valid_ratio=args.data_valid_ratio)"
   ]
  },
  {
   "cell_type": "markdown",
   "id": "a48a8dd0-7b66-49e9-93d7-aebf76e3df35",
   "metadata": {
    "tags": []
   },
   "source": [
    "## 기존 코드"
   ]
  },
  {
   "cell_type": "code",
   "execution_count": 177,
   "id": "f694321a-33b3-4bb9-b86c-23ff80ca58b9",
   "metadata": {
    "tags": []
   },
   "outputs": [],
   "source": [
    "train_dataset_r = RottenTomatoDataset(\n",
    "    rotten_tomato_r.train_rating_pairs, rotten_tomato_r.train_rating_values, rotten_tomato_r.train_graph, \n",
    "    hop=1, sample_ratio=1.0, max_nodes_per_hop=200)"
   ]
  },
  {
   "cell_type": "code",
   "execution_count": 178,
   "id": "a8777876-0bbc-4f2d-a634-074e68f0e31c",
   "metadata": {},
   "outputs": [],
   "source": [
    "train_loader_r = th.utils.data.DataLoader(train_dataset_r, batch_size=32, shuffle=True, \n",
    "                        num_workers=0, collate_fn=collate_rotten_tomato)"
   ]
  },
  {
   "cell_type": "code",
   "execution_count": 179,
   "id": "84b92ed1-1280-465b-9c83-74c138985d2d",
   "metadata": {
    "tags": []
   },
   "outputs": [],
   "source": [
    "batch = next(iter(train_loader_r))"
   ]
  },
  {
   "cell_type": "code",
   "execution_count": 181,
   "id": "4e7db840-3c96-4f7b-9540-af6299a6b396",
   "metadata": {},
   "outputs": [
    {
     "data": {
      "text/plain": [
       "(Graph(num_nodes=8125, num_edges=303226,\n",
       "       ndata_schemes={'_ID': Scheme(shape=(), dtype=torch.int64), 'nlabel': Scheme(shape=(4,), dtype=torch.float32), 'x': Scheme(shape=(4,), dtype=torch.float32)}\n",
       "       edata_schemes={'etype': Scheme(shape=(), dtype=torch.int64), '_ID': Scheme(shape=(), dtype=torch.int64), 'edge_mask': Scheme(shape=(), dtype=torch.float32)}),\n",
       " tensor([4., 7., 5., 6., 6., 6., 4., 4., 4., 7., 4., 7., 7., 5., 5., 8., 4., 9.,\n",
       "         4., 6., 4., 6., 4., 2., 6., 4., 3., 6., 4., 6., 6., 6.]))"
      ]
     },
     "execution_count": 181,
     "metadata": {},
     "output_type": "execute_result"
    }
   ],
   "source": [
    "batch"
   ]
  },
  {
   "cell_type": "code",
   "execution_count": 185,
   "id": "438c4657-10d2-4a63-91b3-0d174d1453d4",
   "metadata": {},
   "outputs": [
    {
     "data": {
      "text/plain": [
       "Graph(num_nodes=8125, num_edges=303226,\n",
       "      ndata_schemes={'_ID': Scheme(shape=(), dtype=torch.int64), 'nlabel': Scheme(shape=(4,), dtype=torch.float32), 'x': Scheme(shape=(4,), dtype=torch.float32)}\n",
       "      edata_schemes={'etype': Scheme(shape=(), dtype=torch.int64), '_ID': Scheme(shape=(), dtype=torch.int64), 'edge_mask': Scheme(shape=(), dtype=torch.float32)})"
      ]
     },
     "execution_count": 185,
     "metadata": {},
     "output_type": "execute_result"
    }
   ],
   "source": [
    "batch[0]"
   ]
  },
  {
   "cell_type": "code",
   "execution_count": 183,
   "id": "2364417f-96c5-46f9-a7af-079ce78401fd",
   "metadata": {},
   "outputs": [
    {
     "data": {
      "text/plain": [
       "tensor([4., 7., 5., 6., 6., 6., 4., 4., 4., 7., 4., 7., 7., 5., 5., 8., 4., 9.,\n",
       "        4., 6., 4., 6., 4., 2., 6., 4., 3., 6., 4., 6., 6., 6.])"
      ]
     },
     "execution_count": 183,
     "metadata": {},
     "output_type": "execute_result"
    }
   ],
   "source": [
    "batch[1]"
   ]
  },
  {
   "cell_type": "code",
   "execution_count": null,
   "id": "cc22746e-c3ab-42dc-90b7-354a1fdf43ed",
   "metadata": {},
   "outputs": [],
   "source": []
  },
  {
   "cell_type": "code",
   "execution_count": null,
   "id": "c9e8fb42-22f2-4b7d-9e7e-ef950903de2f",
   "metadata": {},
   "outputs": [],
   "source": []
  },
  {
   "cell_type": "code",
   "execution_count": 175,
   "id": "91567a4c-6c8a-4baa-b06e-bf988f4c26b6",
   "metadata": {},
   "outputs": [
    {
     "data": {
      "text/plain": [
       "[(Graph(num_nodes=312, num_edges=10492,\n",
       "        ndata_schemes={'_ID': Scheme(shape=(), dtype=torch.int64), 'nlabel': Scheme(shape=(4,), dtype=torch.float32), 'x': Scheme(shape=(4,), dtype=torch.float32)}\n",
       "        edata_schemes={'etype': Scheme(shape=(), dtype=torch.int64), '_ID': Scheme(shape=(), dtype=torch.int64), 'edge_mask': Scheme(shape=(), dtype=torch.float32)}),\n",
       "  tensor(3.)),\n",
       " (Graph(num_nodes=257, num_edges=6412,\n",
       "        ndata_schemes={'_ID': Scheme(shape=(), dtype=torch.int64), 'nlabel': Scheme(shape=(4,), dtype=torch.float32), 'x': Scheme(shape=(4,), dtype=torch.float32)}\n",
       "        edata_schemes={'etype': Scheme(shape=(), dtype=torch.int64), '_ID': Scheme(shape=(), dtype=torch.int64), 'edge_mask': Scheme(shape=(), dtype=torch.float32)}),\n",
       "  tensor(2.)),\n",
       " (Graph(num_nodes=257, num_edges=9924,\n",
       "        ndata_schemes={'_ID': Scheme(shape=(), dtype=torch.int64), 'nlabel': Scheme(shape=(4,), dtype=torch.float32), 'x': Scheme(shape=(4,), dtype=torch.float32)}\n",
       "        edata_schemes={'etype': Scheme(shape=(), dtype=torch.int64), '_ID': Scheme(shape=(), dtype=torch.int64), 'edge_mask': Scheme(shape=(), dtype=torch.float32)}),\n",
       "  tensor(6.))]"
      ]
     },
     "execution_count": 175,
     "metadata": {},
     "output_type": "execute_result"
    }
   ],
   "source": [
    "batch[:3]"
   ]
  },
  {
   "cell_type": "code",
   "execution_count": 172,
   "id": "dc4020f5-1766-4a1f-9003-4f226ce959cb",
   "metadata": {
    "tags": []
   },
   "outputs": [
    {
     "data": {
      "text/plain": [
       "(Graph(num_nodes=312, num_edges=10492,\n",
       "       ndata_schemes={'_ID': Scheme(shape=(), dtype=torch.int64), 'nlabel': Scheme(shape=(4,), dtype=torch.float32), 'x': Scheme(shape=(4,), dtype=torch.float32)}\n",
       "       edata_schemes={'etype': Scheme(shape=(), dtype=torch.int64), '_ID': Scheme(shape=(), dtype=torch.int64), 'edge_mask': Scheme(shape=(), dtype=torch.float32)}),\n",
       " tensor(3.))"
      ]
     },
     "execution_count": 172,
     "metadata": {},
     "output_type": "execute_result"
    }
   ],
   "source": [
    "# 32개 샘플에 대한 그래프 1개, 레이블 리스트 1개\n",
    "batch[0]"
   ]
  },
  {
   "cell_type": "code",
   "execution_count": 173,
   "id": "43cd0267-1f15-4c50-8100-f8ee03e8ad29",
   "metadata": {},
   "outputs": [
    {
     "data": {
      "text/plain": [
       "Graph(num_nodes=312, num_edges=10492,\n",
       "      ndata_schemes={'_ID': Scheme(shape=(), dtype=torch.int64), 'nlabel': Scheme(shape=(4,), dtype=torch.float32), 'x': Scheme(shape=(4,), dtype=torch.float32)}\n",
       "      edata_schemes={'etype': Scheme(shape=(), dtype=torch.int64), '_ID': Scheme(shape=(), dtype=torch.int64), 'edge_mask': Scheme(shape=(), dtype=torch.float32)})"
      ]
     },
     "execution_count": 173,
     "metadata": {},
     "output_type": "execute_result"
    }
   ],
   "source": [
    "batch[0][0]"
   ]
  },
  {
   "cell_type": "code",
   "execution_count": 174,
   "id": "5f7abf7f-aaa7-40b1-b528-008575ee37dd",
   "metadata": {},
   "outputs": [
    {
     "data": {
      "text/plain": [
       "tensor(3.)"
      ]
     },
     "execution_count": 174,
     "metadata": {},
     "output_type": "execute_result"
    }
   ],
   "source": [
    "batch[0][1]"
   ]
  },
  {
   "cell_type": "code",
   "execution_count": null,
   "id": "1304c85f-c57b-4897-98cc-7bd5ce5d2ef1",
   "metadata": {},
   "outputs": [],
   "source": []
  },
  {
   "cell_type": "markdown",
   "id": "e7bee28e-d48a-4d63-9159-344cdb788524",
   "metadata": {},
   "source": [
    "## 수정중"
   ]
  },
  {
   "cell_type": "code",
   "execution_count": 145,
   "id": "78c4d164-8e6a-42fd-87a6-af0e4a28df0f",
   "metadata": {
    "tags": []
   },
   "outputs": [],
   "source": [
    "# 수정한 것 (단, 그래프의 모든 행의 길이 동일함)\n",
    "train_rating_pairs  = [rotten_tomato_r.train_rating_pairs, rotten_tomato_s.train_rating_pairs, rotten_tomato_e.train_rating_pairs]\n",
    "train_rating_values = [rotten_tomato_r.train_rating_values, rotten_tomato_s.train_rating_values, rotten_tomato_e.train_rating_values]\n",
    "train_graph         = [rotten_tomato_r.train_graph, rotten_tomato_s.train_graph, rotten_tomato_e.train_graph]\n",
    "hop = [1, 1, 1]\n",
    "sample_ratio = [1.0, 1.0, 1.0]\n",
    "max_nodes_per_hop = [200, 200, 200]"
   ]
  },
  {
   "cell_type": "code",
   "execution_count": 146,
   "id": "089816fe-347f-44b5-a614-a0caa1cc3e69",
   "metadata": {},
   "outputs": [],
   "source": [
    "train_dataset = MultiRottenTomatoDataset(\n",
    "    train_rating_pairs, train_rating_values, train_graph, hop, sample_ratio, max_nodes_per_hop)\n",
    "\n",
    "train_loader = th.utils.data.DataLoader(train_dataset, batch_size=32, shuffle=True, \n",
    "                        num_workers=0, collate_fn=multi_collate_rotten_tomato)"
   ]
  },
  {
   "cell_type": "code",
   "execution_count": 147,
   "id": "33bdcb15-98a5-46a1-a250-5e00ecc30125",
   "metadata": {},
   "outputs": [
    {
     "data": {
      "text/plain": [
       "6761"
      ]
     },
     "execution_count": 147,
     "metadata": {},
     "output_type": "execute_result"
    }
   ],
   "source": [
    "len(train_loader)"
   ]
  },
  {
   "cell_type": "code",
   "execution_count": 148,
   "id": "07b5ab49-65d0-44ad-b2fa-572eb72b1f37",
   "metadata": {
    "tags": []
   },
   "outputs": [],
   "source": [
    "batch = next(iter(train_loader))"
   ]
  },
  {
   "cell_type": "code",
   "execution_count": 149,
   "id": "aa8a34cf-8d86-4981-bce6-2962f4027027",
   "metadata": {},
   "outputs": [
    {
     "data": {
      "text/plain": [
       "([Graph(num_nodes=8069, num_edges=248580,\n",
       "        ndata_schemes={'_ID': Scheme(shape=(), dtype=torch.int64), 'nlabel': Scheme(shape=(4,), dtype=torch.float32), 'x': Scheme(shape=(4,), dtype=torch.float32)}\n",
       "        edata_schemes={'etype': Scheme(shape=(), dtype=torch.int64), '_ID': Scheme(shape=(), dtype=torch.int64), 'edge_mask': Scheme(shape=(), dtype=torch.float32)}),\n",
       "  Graph(num_nodes=8069, num_edges=244618,\n",
       "        ndata_schemes={'_ID': Scheme(shape=(), dtype=torch.int64), 'nlabel': Scheme(shape=(4,), dtype=torch.float32), 'x': Scheme(shape=(4,), dtype=torch.float32)}\n",
       "        edata_schemes={'etype': Scheme(shape=(), dtype=torch.int64), '_ID': Scheme(shape=(), dtype=torch.int64), 'edge_mask': Scheme(shape=(), dtype=torch.float32)}),\n",
       "  Graph(num_nodes=8069, num_edges=241996,\n",
       "        ndata_schemes={'_ID': Scheme(shape=(), dtype=torch.int64), 'nlabel': Scheme(shape=(4,), dtype=torch.float32), 'x': Scheme(shape=(4,), dtype=torch.float32)}\n",
       "        edata_schemes={'etype': Scheme(shape=(), dtype=torch.int64), '_ID': Scheme(shape=(), dtype=torch.int64), 'edge_mask': Scheme(shape=(), dtype=torch.float32)})],\n",
       " [tensor([3., 6., 6., 9., 9., 6., 3., 4., 6., 4., 4., 3., 5., 3., 9., 6., 1., 9.,\n",
       "          6., 4., 6., 4., 6., 5., 4., 1., 6., 2., 5., 1., 6., 5.]),\n",
       "  tensor([1., 3., 3., 4., 4., 3., 1., 1., 3., 3., 1., 1., 3., 1., 4., 2., 0., 1.,\n",
       "          4., 3., 3., 1., 1., 3., 2., 1., 3., 0., 1., 0., 3., 2.]),\n",
       "  tensor([1., 2., 0., 2., 2., 2., 0., 2., 2., 0., 2., 2., 2., 2., 2., 2., 2., 0.,\n",
       "          2., 2., 2., 1., 2., 2., 2., 2., 2., 1., 2., 2., 2., 2.])])"
      ]
     },
     "execution_count": 149,
     "metadata": {},
     "output_type": "execute_result"
    }
   ],
   "source": [
    "batch"
   ]
  },
  {
   "cell_type": "code",
   "execution_count": 157,
   "id": "852c12cf-e436-487f-8969-c913f36462c1",
   "metadata": {},
   "outputs": [
    {
     "data": {
      "text/plain": [
       "Graph(num_nodes=8069, num_edges=248580,\n",
       "      ndata_schemes={'_ID': Scheme(shape=(), dtype=torch.int64), 'nlabel': Scheme(shape=(4,), dtype=torch.float32), 'x': Scheme(shape=(4,), dtype=torch.float32)}\n",
       "      edata_schemes={'etype': Scheme(shape=(), dtype=torch.int64), '_ID': Scheme(shape=(), dtype=torch.int64), 'edge_mask': Scheme(shape=(), dtype=torch.float32)})"
      ]
     },
     "execution_count": 157,
     "metadata": {},
     "output_type": "execute_result"
    }
   ],
   "source": [
    "batch[0][0]"
   ]
  },
  {
   "cell_type": "code",
   "execution_count": 156,
   "id": "2969698a-7429-4f36-95ce-0804ca725593",
   "metadata": {},
   "outputs": [
    {
     "data": {
      "text/plain": [
       "tensor([3., 6., 6., 9., 9., 6., 3., 4., 6., 4., 4., 3., 5., 3., 9., 6., 1., 9.,\n",
       "        6., 4., 6., 4., 6., 5., 4., 1., 6., 2., 5., 1., 6., 5.])"
      ]
     },
     "execution_count": 156,
     "metadata": {},
     "output_type": "execute_result"
    }
   ],
   "source": [
    "batch[1][0]"
   ]
  },
  {
   "cell_type": "code",
   "execution_count": null,
   "id": "61701e57-f66d-4f42-8bbb-3c3dbfa46ec8",
   "metadata": {},
   "outputs": [],
   "source": []
  },
  {
   "cell_type": "code",
   "execution_count": null,
   "id": "1207698f-59d2-42bb-b0a4-d998058cd2d5",
   "metadata": {},
   "outputs": [],
   "source": []
  },
  {
   "cell_type": "code",
   "execution_count": 23,
   "id": "80b0014d-4006-461e-a133-9bffb707889d",
   "metadata": {},
   "outputs": [
    {
     "name": "stdout",
     "output_type": "stream",
     "text": [
      "Iter=100, time=0.0010\n",
      "Iter=200, time=0.0011\n",
      "Epoch time=28.49\n"
     ]
    }
   ],
   "source": [
    "iter_dur = []\n",
    "t_epoch = time.time()\n",
    "for iter_idx, batch in enumerate(train_loader, start=1):\n",
    "    t_iter = time.time()\n",
    "\n",
    "    inputs = batch[0] # .to(th.device('cuda:0'))\n",
    "\n",
    "    iter_dur.append(time.time() - t_iter)\n",
    "    if iter_idx % 100 == 0:\n",
    "        print(\"Iter={}, time={:.4f}\".format(\n",
    "            iter_idx, np.average(iter_dur)))\n",
    "        iter_dur = []\n",
    "        \n",
    "    if iter_idx == 200:\n",
    "        break\n",
    "print(\"Epoch time={:.2f}\".format(time.time()-t_epoch))"
   ]
  }
 ],
 "metadata": {
  "kernelspec": {
   "display_name": "Python 3 (ipykernel)",
   "language": "python",
   "name": "python3"
  },
  "language_info": {
   "codemirror_mode": {
    "name": "ipython",
    "version": 3
   },
   "file_extension": ".py",
   "mimetype": "text/x-python",
   "name": "python",
   "nbconvert_exporter": "python",
   "pygments_lexer": "ipython3",
   "version": "3.8.11"
  }
 },
 "nbformat": 4,
 "nbformat_minor": 5
}
