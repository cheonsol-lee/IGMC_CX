{
 "cells": [
  {
   "cell_type": "code",
   "execution_count": 3,
   "id": "a0889390",
   "metadata": {},
   "outputs": [],
   "source": [
    "# Created on Feb 2020\n",
    "# Author: 임일\n",
    "import os\n",
    "import numpy as np\n",
    "import pandas as pd\n",
    "\n",
    "# 필요한 Surprise 알고리즘 불러오기\n",
    "from surprise import BaselineOnly \n",
    "from surprise import KNNWithMeans, KNNBaseline, KNNBasic\n",
    "from surprise import SVD\n",
    "from surprise import SVDpp\n",
    "from surprise import NMF\n",
    "from surprise import Dataset\n",
    "from surprise import accuracy\n",
    "from surprise import Reader\n",
    "from surprise.model_selection import cross_validate\n",
    "from surprise.model_selection import train_test_split\n",
    "from surprise.model_selection import GridSearchCV"
   ]
  },
  {
   "cell_type": "markdown",
   "id": "8428beb7",
   "metadata": {},
   "source": [
    "- DF Load"
   ]
  },
  {
   "cell_type": "code",
   "execution_count": 4,
   "id": "ed141f85",
   "metadata": {},
   "outputs": [
    {
     "data": {
      "text/plain": [
       "['.ipynb_checkpoints',\n",
       " 'l_testset.csv',\n",
       " 'l_trainset.csv',\n",
       " 'l_testset_removed.csv']"
      ]
     },
     "execution_count": 4,
     "metadata": {},
     "output_type": "execute_result"
    }
   ],
   "source": [
    "path = './data'\n",
    "os.listdir(path)"
   ]
  },
  {
   "cell_type": "code",
   "execution_count": 5,
   "id": "54cd46a7",
   "metadata": {},
   "outputs": [],
   "source": [
    "trainset = pd.read_csv(os.path.join(path, 'l_trainset.csv'), encoding='utf-8')\n",
    "testset = pd.read_csv(os.path.join(path, 'l_testset.csv'), encoding='utf-8')"
   ]
  },
  {
   "cell_type": "code",
   "execution_count": 6,
   "id": "53220c27",
   "metadata": {},
   "outputs": [
    {
     "data": {
      "text/plain": [
       "(118880, 11)"
      ]
     },
     "execution_count": 6,
     "metadata": {},
     "output_type": "execute_result"
    }
   ],
   "source": [
    "trainset.shape"
   ]
  },
  {
   "cell_type": "code",
   "execution_count": 7,
   "id": "799efe1f",
   "metadata": {},
   "outputs": [
    {
     "data": {
      "text/plain": [
       "(29120, 11)"
      ]
     },
     "execution_count": 7,
     "metadata": {},
     "output_type": "execute_result"
    }
   ],
   "source": [
    "testset.shape"
   ]
  },
  {
   "cell_type": "code",
   "execution_count": 10,
   "id": "61c072ad",
   "metadata": {},
   "outputs": [
    {
     "data": {
      "text/html": [
       "<div>\n",
       "<style scoped>\n",
       "    .dataframe tbody tr th:only-of-type {\n",
       "        vertical-align: middle;\n",
       "    }\n",
       "\n",
       "    .dataframe tbody tr th {\n",
       "        vertical-align: top;\n",
       "    }\n",
       "\n",
       "    .dataframe thead th {\n",
       "        text-align: right;\n",
       "    }\n",
       "</style>\n",
       "<table border=\"1\" class=\"dataframe\">\n",
       "  <thead>\n",
       "    <tr style=\"text-align: right;\">\n",
       "      <th></th>\n",
       "      <th>user_id</th>\n",
       "      <th>movie_id</th>\n",
       "      <th>review_score</th>\n",
       "      <th>sentiment</th>\n",
       "      <th>emotion</th>\n",
       "      <th>review_date</th>\n",
       "      <th>review_content</th>\n",
       "      <th>origin_rating_5</th>\n",
       "      <th>rating_5</th>\n",
       "      <th>origin_rating_10</th>\n",
       "      <th>rating_10</th>\n",
       "    </tr>\n",
       "  </thead>\n",
       "  <tbody>\n",
       "    <tr>\n",
       "      <th>0</th>\n",
       "      <td>9296</td>\n",
       "      <td>7594</td>\n",
       "      <td>0.6</td>\n",
       "      <td>4</td>\n",
       "      <td>2</td>\n",
       "      <td>1800-01-01</td>\n",
       "      <td>It's exciting to see a British horror film wit...</td>\n",
       "      <td>3.4</td>\n",
       "      <td>3</td>\n",
       "      <td>6.4</td>\n",
       "      <td>6</td>\n",
       "    </tr>\n",
       "  </tbody>\n",
       "</table>\n",
       "</div>"
      ],
      "text/plain": [
       "   user_id  movie_id  review_score  sentiment  emotion review_date  \\\n",
       "0     9296      7594           0.6          4        2  1800-01-01   \n",
       "\n",
       "                                      review_content  origin_rating_5  \\\n",
       "0  It's exciting to see a British horror film wit...              3.4   \n",
       "\n",
       "   rating_5  origin_rating_10  rating_10  \n",
       "0         3               6.4          6  "
      ]
     },
     "execution_count": 10,
     "metadata": {},
     "output_type": "execute_result"
    }
   ],
   "source": [
    "trainset.head(1)"
   ]
  },
  {
   "cell_type": "code",
   "execution_count": 11,
   "id": "2052abf6",
   "metadata": {},
   "outputs": [],
   "source": [
    "trainset = trainset[['user_id','movie_id','rating_10']]\n",
    "testset = testset[['user_id','movie_id','rating_10']]"
   ]
  },
  {
   "cell_type": "markdown",
   "id": "b608c392",
   "metadata": {},
   "source": [
    "- Surprise 데이터 형태 변형"
   ]
  },
  {
   "cell_type": "code",
   "execution_count": 12,
   "id": "d050505c",
   "metadata": {},
   "outputs": [],
   "source": [
    "reader = Reader(rating_scale=(1,10))\n",
    "data = Dataset.load_from_df(trainset, reader)\n",
    "surprise_trainset = data.build_full_trainset()"
   ]
  },
  {
   "cell_type": "code",
   "execution_count": 13,
   "id": "7e532d20",
   "metadata": {},
   "outputs": [
    {
     "data": {
      "text/plain": [
       "118880"
      ]
     },
     "execution_count": 13,
     "metadata": {},
     "output_type": "execute_result"
    }
   ],
   "source": [
    "len(trainset)"
   ]
  },
  {
   "cell_type": "code",
   "execution_count": 14,
   "id": "15de582f",
   "metadata": {},
   "outputs": [
    {
     "data": {
      "text/plain": [
       "29120"
      ]
     },
     "execution_count": 14,
     "metadata": {},
     "output_type": "execute_result"
    }
   ],
   "source": [
    "len(testset)"
   ]
  },
  {
   "cell_type": "code",
   "execution_count": 15,
   "id": "7d2218c8",
   "metadata": {},
   "outputs": [],
   "source": [
    "records = testset.to_records(index=False)\n",
    "surprise_testset = list(records)"
   ]
  },
  {
   "cell_type": "markdown",
   "id": "a3bb2214",
   "metadata": {},
   "source": [
    "### 0. Timer"
   ]
  },
  {
   "cell_type": "code",
   "execution_count": 16,
   "id": "26fbc35e",
   "metadata": {},
   "outputs": [],
   "source": [
    "import time\n",
    "import datetime"
   ]
  },
  {
   "cell_type": "code",
   "execution_count": 17,
   "id": "dc7536c9",
   "metadata": {},
   "outputs": [],
   "source": [
    "# 시간 표시 함수\n",
    "def format_time(elapsed):\n",
    "    # 반올림\n",
    "    elapsed_rounded = int(round((elapsed)))\n",
    "    # hh:mm:ss으로 형태 변경\n",
    "    return str(datetime.timedelta(seconds=elapsed_rounded))"
   ]
  },
  {
   "cell_type": "code",
   "execution_count": 18,
   "id": "286f9979",
   "metadata": {},
   "outputs": [
    {
     "name": "stdout",
     "output_type": "stream",
     "text": [
      "  Training epoch took: 0:00:00\n"
     ]
    }
   ],
   "source": [
    "start_time = time.time()\n",
    "print(\"  Training epoch took: {:}\".format(format_time(time.time() - start_time)))"
   ]
  },
  {
   "cell_type": "markdown",
   "id": "744f6a3c",
   "metadata": {},
   "source": [
    "# 1. CF"
   ]
  },
  {
   "cell_type": "markdown",
   "id": "d2c82f64",
   "metadata": {},
   "source": [
    "- k = 10\n",
    "- name = pearson"
   ]
  },
  {
   "cell_type": "code",
   "execution_count": 22,
   "id": "d14db6e9",
   "metadata": {},
   "outputs": [],
   "source": [
    "def cf_algorithms(k_num, name, user_based):\n",
    "    start_time = time.time()\n",
    "    best_test_rmse = list()\n",
    "\n",
    "    pred_list = list() # 모델별 예측 평점 리스트 10개\n",
    "    rmse_list = list()\n",
    "    \n",
    "    sim_options = {'name': f'{name}', 'user_based':user_based}\n",
    "\n",
    "    algo = KNNWithMeans(k=k_num, sim_options=sim_options)\n",
    "    algo.fit(surprise_trainset)\n",
    "    preds = algo.test(surprise_testset)\n",
    "    ratings = [pred.est for pred in preds] # 예측 평점 : n*1\n",
    "    pred_list.append(ratings)\n",
    "    rmse_list.append(accuracy.rmse(preds))\n",
    "    \n",
    "    pred_df = pd.DataFrame(np.array(pred_list).T, columns=['test_pred_1'])\n",
    "    file_name = f\"KNNWithMeans_{user_based}_{k_num}_{name}.csv\"\n",
    "    pred_df.to_csv(\"./save_regression/\"+file_name)\n",
    "    print(f\"{file_name} 생성 완료!\")"
   ]
  },
  {
   "cell_type": "markdown",
   "id": "159d7dac",
   "metadata": {},
   "source": [
    "### Pearson_baseline"
   ]
  },
  {
   "cell_type": "code",
   "execution_count": 23,
   "id": "508a0ee8",
   "metadata": {},
   "outputs": [
    {
     "name": "stdout",
     "output_type": "stream",
     "text": [
      "Estimating biases using als...\n",
      "Computing the pearson_baseline similarity matrix...\n",
      "Done computing similarity matrix.\n",
      "RMSE: 1.8781\n",
      "KNNWithMeans_True_10_pearson_baseline.csv 생성 완료!\n",
      "  Training epoch took: 0:00:01\n"
     ]
    }
   ],
   "source": [
    "cf_algorithms(k_num=10, name='pearson_baseline', user_based=True)"
   ]
  },
  {
   "cell_type": "code",
   "execution_count": 24,
   "id": "98de9eb3",
   "metadata": {},
   "outputs": [
    {
     "name": "stdout",
     "output_type": "stream",
     "text": [
      "Estimating biases using als...\n",
      "Computing the pearson_baseline similarity matrix...\n",
      "Done computing similarity matrix.\n",
      "RMSE: 1.8724\n",
      "KNNWithMeans_True_25_pearson_baseline.csv 생성 완료!\n"
     ]
    }
   ],
   "source": [
    "cf_algorithms(k_num=25, name='pearson_baseline', user_based=True)"
   ]
  },
  {
   "cell_type": "code",
   "execution_count": 25,
   "id": "4b60b704",
   "metadata": {},
   "outputs": [
    {
     "name": "stdout",
     "output_type": "stream",
     "text": [
      "Estimating biases using als...\n",
      "Computing the pearson_baseline similarity matrix...\n",
      "Done computing similarity matrix.\n",
      "RMSE: 1.7578\n",
      "KNNWithMeans_False_10_pearson_baseline.csv 생성 완료!\n"
     ]
    }
   ],
   "source": [
    "cf_algorithms(k_num=10, name='pearson_baseline', user_based=False)"
   ]
  },
  {
   "cell_type": "code",
   "execution_count": 26,
   "id": "871fefe3",
   "metadata": {},
   "outputs": [
    {
     "name": "stdout",
     "output_type": "stream",
     "text": [
      "Estimating biases using als...\n",
      "Computing the pearson_baseline similarity matrix...\n",
      "Done computing similarity matrix.\n",
      "RMSE: 1.7196\n",
      "KNNWithMeans_False_25_pearson_baseline.csv 생성 완료!\n"
     ]
    }
   ],
   "source": [
    "cf_algorithms(k_num=25, name='pearson_baseline', user_based=False)"
   ]
  },
  {
   "cell_type": "markdown",
   "id": "816d30ec",
   "metadata": {},
   "source": [
    "### Cosine baseline"
   ]
  },
  {
   "cell_type": "code",
   "execution_count": 27,
   "id": "fe4aeb38",
   "metadata": {},
   "outputs": [
    {
     "name": "stdout",
     "output_type": "stream",
     "text": [
      "Computing the cosine similarity matrix...\n",
      "Done computing similarity matrix.\n",
      "RMSE: 1.8172\n",
      "KNNWithMeans_True_10_cosine.csv 생성 완료!\n"
     ]
    }
   ],
   "source": [
    "cf_algorithms(k_num=10, name='cosine', user_based=True)"
   ]
  },
  {
   "cell_type": "code",
   "execution_count": 28,
   "id": "e3fbb770",
   "metadata": {},
   "outputs": [
    {
     "name": "stdout",
     "output_type": "stream",
     "text": [
      "Computing the cosine similarity matrix...\n",
      "Done computing similarity matrix.\n",
      "RMSE: 1.8069\n",
      "KNNWithMeans_True_15_cosine.csv 생성 완료!\n"
     ]
    }
   ],
   "source": [
    "cf_algorithms(k_num=15, name='cosine', user_based=True)"
   ]
  },
  {
   "cell_type": "code",
   "execution_count": 29,
   "id": "30c23150",
   "metadata": {},
   "outputs": [
    {
     "name": "stdout",
     "output_type": "stream",
     "text": [
      "Computing the cosine similarity matrix...\n",
      "Done computing similarity matrix.\n",
      "RMSE: 1.8013\n",
      "KNNWithMeans_True_25_cosine.csv 생성 완료!\n"
     ]
    }
   ],
   "source": [
    "cf_algorithms(k_num=25, name='cosine', user_based=True)"
   ]
  },
  {
   "cell_type": "code",
   "execution_count": 30,
   "id": "2b6fb7b4",
   "metadata": {},
   "outputs": [
    {
     "name": "stdout",
     "output_type": "stream",
     "text": [
      "Computing the cosine similarity matrix...\n",
      "Done computing similarity matrix.\n",
      "RMSE: 1.7386\n",
      "KNNWithMeans_False_10_cosine.csv 생성 완료!\n"
     ]
    }
   ],
   "source": [
    "cf_algorithms(k_num=10, name='cosine', user_based=False)"
   ]
  },
  {
   "cell_type": "code",
   "execution_count": 31,
   "id": "aa1ae197",
   "metadata": {},
   "outputs": [
    {
     "name": "stdout",
     "output_type": "stream",
     "text": [
      "Computing the cosine similarity matrix...\n",
      "Done computing similarity matrix.\n",
      "RMSE: 1.7212\n",
      "KNNWithMeans_False_15_cosine.csv 생성 완료!\n"
     ]
    }
   ],
   "source": [
    "cf_algorithms(k_num=15, name='cosine', user_based=False)"
   ]
  },
  {
   "cell_type": "code",
   "execution_count": 32,
   "id": "cc9c4c1e",
   "metadata": {},
   "outputs": [
    {
     "name": "stdout",
     "output_type": "stream",
     "text": [
      "Computing the cosine similarity matrix...\n",
      "Done computing similarity matrix.\n",
      "RMSE: 1.7064\n",
      "KNNWithMeans_False_25_cosine.csv 생성 완료!\n"
     ]
    }
   ],
   "source": [
    "cf_algorithms(k_num=25, name='cosine', user_based=False)"
   ]
  },
  {
   "cell_type": "markdown",
   "id": "04c83c6d",
   "metadata": {},
   "source": [
    "# SVD"
   ]
  },
  {
   "cell_type": "markdown",
   "id": "c4b198eb",
   "metadata": {},
   "source": [
    "- lr 0.005"
   ]
  },
  {
   "cell_type": "code",
   "execution_count": null,
   "id": "75bc12ae",
   "metadata": {},
   "outputs": [],
   "source": [
    "start_time = time.time()\n",
    "\n",
    "pred_list = list() # 모델별 예측 평점 리스트 10개\n",
    "rmse_list = list()\n",
    "mid_time = time.time()\n",
    "\n",
    "algo = SVD(lr_all=0.005)\n",
    "algo.fit(surprise_trainset)\n",
    "preds = algo.test(surprise_testset)\n",
    "ratings = [pred.est for pred in preds] # 예측 평점 : n*1\n",
    "pred_list.append(ratings)\n",
    "rmse_list.append(accuracy.rmse(preds)) # rmse 누적 저장\n",
    "\n",
    "print(\"  Training epoch took: {:}\".format(format_time(time.time() - start_time)))"
   ]
  },
  {
   "cell_type": "markdown",
   "id": "3439313a",
   "metadata": {},
   "source": [
    "- lr 0.006"
   ]
  },
  {
   "cell_type": "code",
   "execution_count": null,
   "id": "a3d5a511",
   "metadata": {},
   "outputs": [],
   "source": [
    "start_time = time.time()\n",
    "\n",
    "pred_list = list() # 모델별 예측 평점 리스트 10개\n",
    "rmse_list = list()\n",
    "mid_time = time.time()\n",
    "\n",
    "algo = SVD(lr_all=0.006)\n",
    "algo.fit(surprise_trainset)\n",
    "preds = algo.test(surprise_testset)\n",
    "ratings = [pred.est for pred in preds] # 예측 평점 : n*1\n",
    "pred_list.append(ratings)\n",
    "rmse_list.append(accuracy.rmse(preds)) # rmse 누적 저장\n",
    "\n",
    "print(\"  Training epoch took: {:}\".format(format_time(time.time() - start_time)))"
   ]
  },
  {
   "cell_type": "markdown",
   "id": "1ace56f9",
   "metadata": {},
   "source": [
    "- lr 0.007"
   ]
  },
  {
   "cell_type": "code",
   "execution_count": null,
   "id": "c117a550",
   "metadata": {},
   "outputs": [],
   "source": [
    "start_time = time.time()\n",
    "\n",
    "pred_list = list() # 모델별 예측 평점 리스트 10개\n",
    "rmse_list = list()\n",
    "mid_time = time.time()\n",
    "\n",
    "algo = SVD(lr_all=0.007)\n",
    "algo.fit(surprise_trainset)\n",
    "preds = algo.test(surprise_testset)\n",
    "ratings = [pred.est for pred in preds] # 예측 평점 : n*1\n",
    "pred_list.append(ratings)\n",
    "rmse_list.append(accuracy.rmse(preds)) # rmse 누적 저장\n",
    "\n",
    "pred_df = pd.DataFrame(np.array(pred_list).T, columns=['test_pred_1'])\n",
    "pred_df.to_csv(f\"./save_surprise/SVD_0..csv\")\n",
    "\n",
    "print(\"  Training epoch took: {:}\".format(format_time(time.time() - start_time)))"
   ]
  },
  {
   "cell_type": "code",
   "execution_count": null,
   "id": "bb266129",
   "metadata": {},
   "outputs": [],
   "source": []
  },
  {
   "cell_type": "code",
   "execution_count": null,
   "id": "83c498d2",
   "metadata": {},
   "outputs": [],
   "source": []
  },
  {
   "cell_type": "code",
   "execution_count": null,
   "id": "bd92848e",
   "metadata": {},
   "outputs": [],
   "source": []
  },
  {
   "cell_type": "code",
   "execution_count": null,
   "id": "1bfab195",
   "metadata": {},
   "outputs": [],
   "source": []
  },
  {
   "cell_type": "code",
   "execution_count": null,
   "id": "514b20ec",
   "metadata": {},
   "outputs": [],
   "source": []
  }
 ],
 "metadata": {
  "kernelspec": {
   "display_name": "torch37",
   "language": "python",
   "name": "torch37"
  },
  "language_info": {
   "codemirror_mode": {
    "name": "ipython",
    "version": 3
   },
   "file_extension": ".py",
   "mimetype": "text/x-python",
   "name": "python",
   "nbconvert_exporter": "python",
   "pygments_lexer": "ipython3",
   "version": "3.7.11"
  }
 },
 "nbformat": 4,
 "nbformat_minor": 5
}
